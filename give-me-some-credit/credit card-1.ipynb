{
 "cells": [
  {
   "cell_type": "code",
   "execution_count": 1,
   "metadata": {},
   "outputs": [],
   "source": [
    "% matplotlib inline\n",
    "import numpy as np\n",
    "import pandas as pd\n",
    "from sklearn.linear_model import LogisticRegression as LR\n"
   ]
  },
  {
   "cell_type": "code",
   "execution_count": 5,
   "metadata": {},
   "outputs": [],
   "source": [
    "data= pd.read_csv(r'D:\\sklearn-data\\give-me-some-credit-dataset\\cs-training.csv',index_col=0)"
   ]
  },
  {
   "cell_type": "code",
   "execution_count": 6,
   "metadata": {},
   "outputs": [
    {
     "data": {
      "text/plain": [
       "(150000, 11)"
      ]
     },
     "execution_count": 6,
     "metadata": {},
     "output_type": "execute_result"
    }
   ],
   "source": [
    "data.shape"
   ]
  },
  {
   "cell_type": "code",
   "execution_count": 7,
   "metadata": {},
   "outputs": [
    {
     "data": {
      "text/html": [
       "<div>\n",
       "<style scoped>\n",
       "    .dataframe tbody tr th:only-of-type {\n",
       "        vertical-align: middle;\n",
       "    }\n",
       "\n",
       "    .dataframe tbody tr th {\n",
       "        vertical-align: top;\n",
       "    }\n",
       "\n",
       "    .dataframe thead th {\n",
       "        text-align: right;\n",
       "    }\n",
       "</style>\n",
       "<table border=\"1\" class=\"dataframe\">\n",
       "  <thead>\n",
       "    <tr style=\"text-align: right;\">\n",
       "      <th></th>\n",
       "      <th>SeriousDlqin2yrs</th>\n",
       "      <th>RevolvingUtilizationOfUnsecuredLines</th>\n",
       "      <th>age</th>\n",
       "      <th>NumberOfTime30-59DaysPastDueNotWorse</th>\n",
       "      <th>DebtRatio</th>\n",
       "      <th>MonthlyIncome</th>\n",
       "      <th>NumberOfOpenCreditLinesAndLoans</th>\n",
       "      <th>NumberOfTimes90DaysLate</th>\n",
       "      <th>NumberRealEstateLoansOrLines</th>\n",
       "      <th>NumberOfTime60-89DaysPastDueNotWorse</th>\n",
       "      <th>NumberOfDependents</th>\n",
       "    </tr>\n",
       "  </thead>\n",
       "  <tbody>\n",
       "    <tr>\n",
       "      <th>1</th>\n",
       "      <td>1</td>\n",
       "      <td>0.766127</td>\n",
       "      <td>45</td>\n",
       "      <td>2</td>\n",
       "      <td>0.802982</td>\n",
       "      <td>9120.0</td>\n",
       "      <td>13</td>\n",
       "      <td>0</td>\n",
       "      <td>6</td>\n",
       "      <td>0</td>\n",
       "      <td>2.0</td>\n",
       "    </tr>\n",
       "    <tr>\n",
       "      <th>2</th>\n",
       "      <td>0</td>\n",
       "      <td>0.957151</td>\n",
       "      <td>40</td>\n",
       "      <td>0</td>\n",
       "      <td>0.121876</td>\n",
       "      <td>2600.0</td>\n",
       "      <td>4</td>\n",
       "      <td>0</td>\n",
       "      <td>0</td>\n",
       "      <td>0</td>\n",
       "      <td>1.0</td>\n",
       "    </tr>\n",
       "    <tr>\n",
       "      <th>3</th>\n",
       "      <td>0</td>\n",
       "      <td>0.658180</td>\n",
       "      <td>38</td>\n",
       "      <td>1</td>\n",
       "      <td>0.085113</td>\n",
       "      <td>3042.0</td>\n",
       "      <td>2</td>\n",
       "      <td>1</td>\n",
       "      <td>0</td>\n",
       "      <td>0</td>\n",
       "      <td>0.0</td>\n",
       "    </tr>\n",
       "    <tr>\n",
       "      <th>4</th>\n",
       "      <td>0</td>\n",
       "      <td>0.233810</td>\n",
       "      <td>30</td>\n",
       "      <td>0</td>\n",
       "      <td>0.036050</td>\n",
       "      <td>3300.0</td>\n",
       "      <td>5</td>\n",
       "      <td>0</td>\n",
       "      <td>0</td>\n",
       "      <td>0</td>\n",
       "      <td>0.0</td>\n",
       "    </tr>\n",
       "    <tr>\n",
       "      <th>5</th>\n",
       "      <td>0</td>\n",
       "      <td>0.907239</td>\n",
       "      <td>49</td>\n",
       "      <td>1</td>\n",
       "      <td>0.024926</td>\n",
       "      <td>63588.0</td>\n",
       "      <td>7</td>\n",
       "      <td>0</td>\n",
       "      <td>1</td>\n",
       "      <td>0</td>\n",
       "      <td>0.0</td>\n",
       "    </tr>\n",
       "  </tbody>\n",
       "</table>\n",
       "</div>"
      ],
      "text/plain": [
       "   SeriousDlqin2yrs  RevolvingUtilizationOfUnsecuredLines  age  \\\n",
       "1                 1                              0.766127   45   \n",
       "2                 0                              0.957151   40   \n",
       "3                 0                              0.658180   38   \n",
       "4                 0                              0.233810   30   \n",
       "5                 0                              0.907239   49   \n",
       "\n",
       "   NumberOfTime30-59DaysPastDueNotWorse  DebtRatio  MonthlyIncome  \\\n",
       "1                                     2   0.802982         9120.0   \n",
       "2                                     0   0.121876         2600.0   \n",
       "3                                     1   0.085113         3042.0   \n",
       "4                                     0   0.036050         3300.0   \n",
       "5                                     1   0.024926        63588.0   \n",
       "\n",
       "   NumberOfOpenCreditLinesAndLoans  NumberOfTimes90DaysLate  \\\n",
       "1                               13                        0   \n",
       "2                                4                        0   \n",
       "3                                2                        1   \n",
       "4                                5                        0   \n",
       "5                                7                        0   \n",
       "\n",
       "   NumberRealEstateLoansOrLines  NumberOfTime60-89DaysPastDueNotWorse  \\\n",
       "1                             6                                     0   \n",
       "2                             0                                     0   \n",
       "3                             0                                     0   \n",
       "4                             0                                     0   \n",
       "5                             1                                     0   \n",
       "\n",
       "   NumberOfDependents  \n",
       "1                 2.0  \n",
       "2                 1.0  \n",
       "3                 0.0  \n",
       "4                 0.0  \n",
       "5                 0.0  "
      ]
     },
     "execution_count": 7,
     "metadata": {},
     "output_type": "execute_result"
    }
   ],
   "source": [
    "data.head()"
   ]
  },
  {
   "cell_type": "code",
   "execution_count": 9,
   "metadata": {},
   "outputs": [],
   "source": [
    "data.drop_duplicates(inplace=True)"
   ]
  },
  {
   "cell_type": "code",
   "execution_count": 11,
   "metadata": {},
   "outputs": [
    {
     "data": {
      "text/plain": [
       "(149391, 11)"
      ]
     },
     "execution_count": 11,
     "metadata": {},
     "output_type": "execute_result"
    }
   ],
   "source": [
    "data.shape"
   ]
  },
  {
   "cell_type": "code",
   "execution_count": 12,
   "metadata": {},
   "outputs": [],
   "source": [
    "data.index = range(data.shape[0])    #更新索引"
   ]
  },
  {
   "cell_type": "code",
   "execution_count": 14,
   "metadata": {},
   "outputs": [
    {
     "name": "stdout",
     "output_type": "stream",
     "text": [
      "<class 'pandas.core.frame.DataFrame'>\n",
      "RangeIndex: 149391 entries, 0 to 149390\n",
      "Data columns (total 11 columns):\n",
      "SeriousDlqin2yrs                        149391 non-null int64\n",
      "RevolvingUtilizationOfUnsecuredLines    149391 non-null float64\n",
      "age                                     149391 non-null int64\n",
      "NumberOfTime30-59DaysPastDueNotWorse    149391 non-null int64\n",
      "DebtRatio                               149391 non-null float64\n",
      "MonthlyIncome                           120170 non-null float64\n",
      "NumberOfOpenCreditLinesAndLoans         149391 non-null int64\n",
      "NumberOfTimes90DaysLate                 149391 non-null int64\n",
      "NumberRealEstateLoansOrLines            149391 non-null int64\n",
      "NumberOfTime60-89DaysPastDueNotWorse    149391 non-null int64\n",
      "NumberOfDependents                      145563 non-null float64\n",
      "dtypes: float64(4), int64(7)\n",
      "memory usage: 12.5 MB\n"
     ]
    }
   ],
   "source": [
    "data.info()"
   ]
  },
  {
   "cell_type": "code",
   "execution_count": 15,
   "metadata": {},
   "outputs": [
    {
     "data": {
      "text/plain": [
       "SeriousDlqin2yrs                        0.000000\n",
       "RevolvingUtilizationOfUnsecuredLines    0.000000\n",
       "age                                     0.000000\n",
       "NumberOfTime30-59DaysPastDueNotWorse    0.000000\n",
       "DebtRatio                               0.000000\n",
       "MonthlyIncome                           0.195601\n",
       "NumberOfOpenCreditLinesAndLoans         0.000000\n",
       "NumberOfTimes90DaysLate                 0.000000\n",
       "NumberRealEstateLoansOrLines            0.000000\n",
       "NumberOfTime60-89DaysPastDueNotWorse    0.000000\n",
       "NumberOfDependents                      0.025624\n",
       "dtype: float64"
      ]
     },
     "execution_count": 15,
     "metadata": {},
     "output_type": "execute_result"
    }
   ],
   "source": [
    "data.isnull().mean()"
   ]
  },
  {
   "cell_type": "code",
   "execution_count": 16,
   "metadata": {},
   "outputs": [],
   "source": [
    "data['NumberOfDependents'].fillna(int(data['NumberOfDependents'].mean()),inplace=True)"
   ]
  },
  {
   "cell_type": "code",
   "execution_count": 17,
   "metadata": {},
   "outputs": [
    {
     "name": "stdout",
     "output_type": "stream",
     "text": [
      "<class 'pandas.core.frame.DataFrame'>\n",
      "RangeIndex: 149391 entries, 0 to 149390\n",
      "Data columns (total 11 columns):\n",
      "SeriousDlqin2yrs                        149391 non-null int64\n",
      "RevolvingUtilizationOfUnsecuredLines    149391 non-null float64\n",
      "age                                     149391 non-null int64\n",
      "NumberOfTime30-59DaysPastDueNotWorse    149391 non-null int64\n",
      "DebtRatio                               149391 non-null float64\n",
      "MonthlyIncome                           120170 non-null float64\n",
      "NumberOfOpenCreditLinesAndLoans         149391 non-null int64\n",
      "NumberOfTimes90DaysLate                 149391 non-null int64\n",
      "NumberRealEstateLoansOrLines            149391 non-null int64\n",
      "NumberOfTime60-89DaysPastDueNotWorse    149391 non-null int64\n",
      "NumberOfDependents                      149391 non-null float64\n",
      "dtypes: float64(4), int64(7)\n",
      "memory usage: 12.5 MB\n"
     ]
    }
   ],
   "source": [
    "data.info()"
   ]
  },
  {
   "cell_type": "code",
   "execution_count": 22,
   "metadata": {},
   "outputs": [],
   "source": [
    "## 用随机森林填补月收入缺失值"
   ]
  },
  {
   "cell_type": "code",
   "execution_count": 29,
   "metadata": {},
   "outputs": [],
   "source": [
    " def fill_missing(X,y,to_fill):\n",
    "        df=X.copy()\n",
    "        fill = df.loc[:,to_fill]\n",
    "        df = pd.concat([df.loc[:,df.columns !=to_fill],pd.DataFrame(y)],axis=1)  # 组合新的特征举证\n",
    "        Ytrain = fill[fill.notnull()]    #新的训练集标签，即有缺失值的特征列中，有值的部分\n",
    "        Ytest = fill[fill.isnull()]     #新的测试集标签，即缺失值部分\n",
    "        Xtrain = df.iloc[Ytrain.index,:]     #新的训练集    \n",
    "        Xtest = df.iloc[Ytest.index,:]       #新的训练集\n",
    "        #用随机森林填补缺失值\n",
    "        from sklearn.ensemble import RandomForestRegressor as rfr\n",
    "        rfr = rfr(n_estimators =100)\n",
    "        rfr=rfr.fit(Xtrain,Ytrain)\n",
    "        Ypred = rfr.predict(Xtest)\n",
    "        return Ypred"
   ]
  },
  {
   "cell_type": "code",
   "execution_count": 30,
   "metadata": {},
   "outputs": [],
   "source": [
    "X = data.iloc[:,1:]\n",
    "y = data['SeriousDlqin2yrs']\n",
    "y_predict=fill_missing(X,y,'MonthlyIncome')"
   ]
  },
  {
   "cell_type": "code",
   "execution_count": 31,
   "metadata": {},
   "outputs": [
    {
     "data": {
      "text/plain": [
       "(29221,)"
      ]
     },
     "execution_count": 31,
     "metadata": {},
     "output_type": "execute_result"
    }
   ],
   "source": [
    "y_predict.shape"
   ]
  },
  {
   "cell_type": "code",
   "execution_count": 36,
   "metadata": {},
   "outputs": [],
   "source": [
    "data.loc[data.loc[:,'MonthlyIncome'].isnull(),'MonthlyIncome'] =  y_predict  #填充缺失值"
   ]
  },
  {
   "cell_type": "code",
   "execution_count": 37,
   "metadata": {},
   "outputs": [
    {
     "name": "stdout",
     "output_type": "stream",
     "text": [
      "<class 'pandas.core.frame.DataFrame'>\n",
      "RangeIndex: 149391 entries, 0 to 149390\n",
      "Data columns (total 11 columns):\n",
      "SeriousDlqin2yrs                        149391 non-null int64\n",
      "RevolvingUtilizationOfUnsecuredLines    149391 non-null float64\n",
      "age                                     149391 non-null int64\n",
      "NumberOfTime30-59DaysPastDueNotWorse    149391 non-null int64\n",
      "DebtRatio                               149391 non-null float64\n",
      "MonthlyIncome                           149391 non-null float64\n",
      "NumberOfOpenCreditLinesAndLoans         149391 non-null int64\n",
      "NumberOfTimes90DaysLate                 149391 non-null int64\n",
      "NumberRealEstateLoansOrLines            149391 non-null int64\n",
      "NumberOfTime60-89DaysPastDueNotWorse    149391 non-null int64\n",
      "NumberOfDependents                      149391 non-null float64\n",
      "dtypes: float64(4), int64(7)\n",
      "memory usage: 12.5 MB\n"
     ]
    }
   ],
   "source": [
    "data.info()"
   ]
  },
  {
   "cell_type": "code",
   "execution_count": 41,
   "metadata": {},
   "outputs": [
    {
     "data": {
      "text/plain": [
       "1"
      ]
     },
     "execution_count": 41,
     "metadata": {},
     "output_type": "execute_result"
    }
   ],
   "source": [
    "sum(data['age']==0)"
   ]
  },
  {
   "cell_type": "code",
   "execution_count": 42,
   "metadata": {},
   "outputs": [],
   "source": [
    "data = data[data['age']!=0]"
   ]
  },
  {
   "cell_type": "code",
   "execution_count": 43,
   "metadata": {},
   "outputs": [
    {
     "data": {
      "text/plain": [
       "(149390, 11)"
      ]
     },
     "execution_count": 43,
     "metadata": {},
     "output_type": "execute_result"
    }
   ],
   "source": [
    "data.shape"
   ]
  },
  {
   "cell_type": "code",
   "execution_count": 44,
   "metadata": {},
   "outputs": [],
   "source": [
    "data = data[data['NumberOfTimes90DaysLate']<90]"
   ]
  },
  {
   "cell_type": "code",
   "execution_count": 45,
   "metadata": {},
   "outputs": [
    {
     "data": {
      "text/plain": [
       "(149165, 11)"
      ]
     },
     "execution_count": 45,
     "metadata": {},
     "output_type": "execute_result"
    }
   ],
   "source": [
    "data.shape"
   ]
  },
  {
   "cell_type": "code",
   "execution_count": 46,
   "metadata": {},
   "outputs": [],
   "source": [
    "X= data.iloc[:,1:]\n",
    "y = data.iloc[:,0]"
   ]
  },
  {
   "cell_type": "code",
   "execution_count": 47,
   "metadata": {},
   "outputs": [
    {
     "data": {
      "text/plain": [
       "0    139292\n",
       "1      9873\n",
       "Name: SeriousDlqin2yrs, dtype: int64"
      ]
     },
     "execution_count": 47,
     "metadata": {},
     "output_type": "execute_result"
    }
   ],
   "source": [
    "y.value_counts()"
   ]
  },
  {
   "cell_type": "code",
   "execution_count": 48,
   "metadata": {},
   "outputs": [],
   "source": [
    "import imblearn"
   ]
  },
  {
   "cell_type": "code",
   "execution_count": 49,
   "metadata": {},
   "outputs": [],
   "source": [
    "from imblearn.over_sampling import SMOTE"
   ]
  },
  {
   "cell_type": "code",
   "execution_count": 51,
   "metadata": {},
   "outputs": [],
   "source": [
    "sm = SMOTE(random_state=42)\n",
    "X,y = sm.fit_sample(X,y)          #上采用后X和y均为ndarray结构"
   ]
  },
  {
   "cell_type": "code",
   "execution_count": 53,
   "metadata": {},
   "outputs": [],
   "source": [
    "y=pd.Series(y)  "
   ]
  },
  {
   "cell_type": "code",
   "execution_count": 54,
   "metadata": {},
   "outputs": [
    {
     "data": {
      "text/plain": [
       "1    139292\n",
       "0    139292\n",
       "dtype: int64"
      ]
     },
     "execution_count": 54,
     "metadata": {},
     "output_type": "execute_result"
    }
   ],
   "source": [
    "y.value_counts()"
   ]
  },
  {
   "cell_type": "code",
   "execution_count": 56,
   "metadata": {},
   "outputs": [],
   "source": [
    "#分测试集和训练集\n",
    "from sklearn.model_selection import train_test_split\n",
    "X=pd.DataFrame(X)\n",
    "Xtrain,Xtest,ytrain,ytest = train_test_split(X,y,test_size=0.3,random_state=42)\n",
    "model_data = pd.concat([ytrain,Xtrain],axis=1)\n",
    "model_data.index =range(model_data.shape[0])\n",
    "model_data.columns = data.columns\n",
    "vali_data =pd.concat([ytest,Xtest],axis=1)\n",
    "vali_data.index =range(vali_data.shape[0])\n",
    "vali_data.columns = data.columns\n",
    "model_data.to_csv(r'D:\\sklearn-data\\give-me-some-credit-dataset\\model_data.csv')\n",
    "vali_data.to_csv(r'D:\\sklearn-data\\give-me-some-credit-dataset\\vali_data.csv')"
   ]
  },
  {
   "cell_type": "code",
   "execution_count": 57,
   "metadata": {},
   "outputs": [
    {
     "data": {
      "text/plain": [
       "(195008, 11)"
      ]
     },
     "execution_count": 57,
     "metadata": {},
     "output_type": "execute_result"
    }
   ],
   "source": [
    "model_data.shape"
   ]
  },
  {
   "cell_type": "code",
   "execution_count": 58,
   "metadata": {},
   "outputs": [
    {
     "data": {
      "text/plain": [
       "(83576, 11)"
      ]
     },
     "execution_count": 58,
     "metadata": {},
     "output_type": "execute_result"
    }
   ],
   "source": [
    "vali_data.shape"
   ]
  },
  {
   "cell_type": "code",
   "execution_count": 2,
   "metadata": {},
   "outputs": [],
   "source": [
    "model_data=pd.read_csv(r'D:\\sklearn-data\\give-me-some-credit-dataset\\model_data.csv',index_col=0)\n",
    "vali_data=pd.read_csv(r'D:\\sklearn-data\\give-me-some-credit-dataset\\vali_data.csv',index_col=0)\n"
   ]
  },
  {
   "cell_type": "markdown",
   "metadata": {},
   "source": [
    "# 分箱"
   ]
  },
  {
   "cell_type": "markdown",
   "metadata": {},
   "source": [
    "## 等频分箱"
   ]
  },
  {
   "cell_type": "code",
   "execution_count": 3,
   "metadata": {},
   "outputs": [],
   "source": [
    "model_data['qcut'],updown = pd.qcut(model_data['age'],retbins=True,q=20)"
   ]
  },
  {
   "cell_type": "code",
   "execution_count": 45,
   "metadata": {},
   "outputs": [
    {
     "data": {
      "text/plain": [
       "array([ 21.        ,  28.        ,  31.04201312,  34.        ,\n",
       "        36.74469634,  39.        ,  41.        ,  43.        ,\n",
       "        45.        ,  47.        ,  48.58203487,  50.10962799,\n",
       "        52.        ,  54.        ,  56.        ,  58.84702988,\n",
       "        61.        ,  64.        ,  68.        ,  74.        ,\n",
       "       109.        ])"
      ]
     },
     "execution_count": 45,
     "metadata": {},
     "output_type": "execute_result"
    }
   ],
   "source": [
    "updown"
   ]
  },
  {
   "cell_type": "code",
   "execution_count": 4,
   "metadata": {},
   "outputs": [],
   "source": [
    "count_y0= model_data[model_data['SeriousDlqin2yrs']==0].groupby(by='qcut').count()['SeriousDlqin2yrs']\n",
    "count_y1= model_data[model_data['SeriousDlqin2yrs']==1].groupby(by='qcut').count()['SeriousDlqin2yrs']"
   ]
  },
  {
   "cell_type": "code",
   "execution_count": 66,
   "metadata": {},
   "outputs": [
    {
     "data": {
      "text/plain": [
       "qcut\n",
       "(20.999, 28.0]     4226\n",
       "(28.0, 31.042]     3558\n",
       "(31.042, 34.0]     4056\n",
       "(34.0, 36.745]     2824\n",
       "(36.745, 39.0]     5126\n",
       "(39.0, 41.0]       3935\n",
       "(41.0, 43.0]       4044\n",
       "(43.0, 45.0]       4407\n",
       "(45.0, 47.0]       4757\n",
       "(47.0, 48.582]     2487\n",
       "(48.582, 50.11]    4933\n",
       "(50.11, 52.0]      4732\n",
       "(52.0, 54.0]       4697\n",
       "(54.0, 56.0]       4660\n",
       "(56.0, 58.847]     4480\n",
       "(58.847, 61.0]     6777\n",
       "(61.0, 64.0]       7005\n",
       "(64.0, 68.0]       6644\n",
       "(68.0, 74.0]       6766\n",
       "(74.0, 109.0]      7754\n",
       "Name: SeriousDlqin2yrs, dtype: int64"
      ]
     },
     "execution_count": 66,
     "metadata": {},
     "output_type": "execute_result"
    }
   ],
   "source": [
    "count_y0"
   ]
  },
  {
   "cell_type": "code",
   "execution_count": 5,
   "metadata": {},
   "outputs": [
    {
     "data": {
      "text/plain": [
       "[(21.0, 28.0, 4226, 6048),\n",
       " (28.0, 31.042013117227576, 3558, 5669),\n",
       " (31.042013117227576, 34.0, 4056, 6554),\n",
       " (34.0, 36.74469634335463, 2824, 6067),\n",
       " (36.74469634335463, 39.0, 5126, 5790),\n",
       " (39.0, 41.0, 3935, 5543),\n",
       " (41.0, 43.0, 4044, 5703),\n",
       " (43.0, 45.0, 4407, 5648),\n",
       " (45.0, 47.0, 4757, 6388),\n",
       " (47.0, 48.582034871531704, 2487, 4674),\n",
       " (48.582034871531704, 50.109627992391445, 4933, 4817),\n",
       " (50.109627992391445, 52.0, 4732, 5659),\n",
       " (52.0, 54.0, 4697, 5413),\n",
       " (54.0, 56.0, 4660, 4505),\n",
       " (56.0, 58.847029880111094, 4480, 4856),\n",
       " (58.847029880111094, 61.0, 6777, 3776),\n",
       " (61.0, 64.0, 7005, 3801),\n",
       " (64.0, 68.0, 6644, 2684),\n",
       " (68.0, 74.0, 6766, 2015),\n",
       " (74.0, 109.0, 7754, 1530)]"
      ]
     },
     "execution_count": 5,
     "metadata": {},
     "output_type": "execute_result"
    }
   ],
   "source": [
    "num_bins = [*zip(updown,updown[1:],count_y0,count_y1)]\n",
    "num_bins"
   ]
  },
  {
   "cell_type": "markdown",
   "metadata": {},
   "source": [
    "### 定义WOE和IV函数"
   ]
  },
  {
   "cell_type": "code",
   "execution_count": 32,
   "metadata": {},
   "outputs": [],
   "source": [
    "def get_woe(num_bins):\n",
    "    columns = ['min','max','count_0','count_1']\n",
    "    df =pd.DataFrame(num_bins,columns = columns)\n",
    "    df['total'] = df['count_0']+df['count_1']\n",
    "    df['percentage'] = df['total'] /df['total'].sum()\n",
    "    df['bad_rate'] = df['count_1']/df['total']\n",
    "    df['good%']=df['count_0']/df['count_0'].sum()\n",
    "    df['bad%']=df['count_1']/df['count_1'].sum()\n",
    "    df['woe'] = np.log(df['good%']/df['bad%'])\n",
    "    return df"
   ]
  },
  {
   "cell_type": "code",
   "execution_count": 69,
   "metadata": {},
   "outputs": [],
   "source": [
    "def get_iv(df):\n",
    "    rate = df['good%']-df['bad%']\n",
    "    iv= np.sum(df['woe']*rate)\n",
    "    return iv"
   ]
  },
  {
   "cell_type": "code",
   "execution_count": 36,
   "metadata": {},
   "outputs": [
    {
     "data": {
      "text/plain": [
       "[(21.0, 28.0, 4226, 6048),\n",
       " (28.0, 31.042013117227576, 3558, 5669),\n",
       " (31.042013117227576, 34.0, 4056, 6554),\n",
       " (34.0, 36.74469634335463, 2824, 6067),\n",
       " (36.74469634335463, 39.0, 5126, 5790),\n",
       " (39.0, 41.0, 3935, 5543),\n",
       " (41.0, 43.0, 4044, 5703),\n",
       " (43.0, 45.0, 4407, 5648),\n",
       " (45.0, 47.0, 4757, 6388),\n",
       " (47.0, 48.582034871531704, 2487, 4674),\n",
       " (48.582034871531704, 50.109627992391445, 4933, 4817),\n",
       " (50.109627992391445, 52.0, 4732, 5659),\n",
       " (52.0, 54.0, 4697, 5413),\n",
       " (54.0, 56.0, 4660, 4505),\n",
       " (56.0, 58.847029880111094, 4480, 4856),\n",
       " (58.847029880111094, 61.0, 6777, 3776),\n",
       " (61.0, 64.0, 7005, 3801),\n",
       " (64.0, 68.0, 6644, 2684),\n",
       " (68.0, 74.0, 6766, 2015),\n",
       " (74.0, 109.0, 7754, 1530)]"
      ]
     },
     "execution_count": 36,
     "metadata": {},
     "output_type": "execute_result"
    }
   ],
   "source": [
    "num_bin = num_bins.copy()\n",
    "num_bin  "
   ]
  },
  {
   "cell_type": "code",
   "execution_count": 77,
   "metadata": {},
   "outputs": [
    {
     "data": {
      "image/png": "[encoded data removed]",
      "text/plain": [
       "<Figure size 432x288 with 1 Axes>"
      ]
     },
     "metadata": {},
     "output_type": "display_data"
    }
   ],
   "source": [
    "import matplotlib.pyplot as plt\n",
    "import scipy\n",
    "IV = []\n",
    "axisx =[]\n",
    "while len(num_bin)>2:\n",
    "    pvs = []\n",
    "    for i in range(len(num_bin)-1):\n",
    "        x1 = num_bin[i][2:]\n",
    "        x2 = num_bin[i+1][2:]\n",
    "        pv = scipy.stats.chi2_contingency([x1,x2])[1]  #获取相邻两个箱子的p值\n",
    "        pvs.append(pv)\n",
    "    i= pvs.index(max(pvs))\n",
    "    #将第i个和第i+1个箱子合并为一个\n",
    "    num_bin[i:i+2]=[(num_bin[i][0],num_bin[i+1][1],num_bin[i][2]+num_bin[i+1][2],num_bin[i][3]+num_bin[i+1][3])]\n",
    "    bin_df = get_woe(num_bin)\n",
    "    axisx.append(len(num_bin))\n",
    "    IV.append(get_iv(bin_df))\n",
    "plt.figure()\n",
    "plt.plot(axisx,IV)\n",
    "plt.xticks(axisx)\n",
    "plt.xlabel('number of box')\n",
    "plt.ylabel('IV')\n",
    "plt.show()"
   ]
  },
  {
   "cell_type": "markdown",
   "metadata": {},
   "source": [
    "### 用最佳分箱个数分箱，并验证分箱结果"
   ]
  },
  {
   "cell_type": "code",
   "execution_count": 30,
   "metadata": {},
   "outputs": [],
   "source": [
    "import scipy\n",
    "def get_bin(numbin,n):\n",
    "    while len(numbin)>n:\n",
    "        pvs = []\n",
    "        for i in range(len(numbin)-1):\n",
    "            x1 = numbin[i][2:]\n",
    "            x2 = numbin[i+1][2:]\n",
    "            pv = scipy.stats.chi2_contingency([x1,x2])[1]\n",
    "            pvs.append(pv)\n",
    "        i = pvs.index(max(pvs))\n",
    "        numbin[i:i+2]=[(numbin[i][0],numbin[i+1][1],numbin[i][2]+numbin[i+1][2],numbin[i][3]+numbin[i+1][3])]\n",
    "    return numbin"
   ]
  },
  {
   "cell_type": "code",
   "execution_count": null,
   "metadata": {},
   "outputs": [],
   "source": []
  },
  {
   "cell_type": "code",
   "execution_count": 29,
   "metadata": {},
   "outputs": [
    {
     "data": {
      "text/plain": [
       "array([[  21.        ,   28.        , 4226.        , 6048.        ],\n",
       "       [  28.        ,   31.04201312, 3558.        , 5669.        ],\n",
       "       [  31.04201312,   34.        , 4056.        , 6554.        ],\n",
       "       [  34.        ,   36.74469634, 2824.        , 6067.        ],\n",
       "       [  36.74469634,   39.        , 5126.        , 5790.        ],\n",
       "       [  39.        ,   41.        , 3935.        , 5543.        ],\n",
       "       [  41.        ,   43.        , 4044.        , 5703.        ],\n",
       "       [  43.        ,   45.        , 4407.        , 5648.        ],\n",
       "       [  45.        ,   47.        , 4757.        , 6388.        ],\n",
       "       [  47.        ,   48.58203487, 2487.        , 4674.        ],\n",
       "       [  48.58203487,   50.10962799, 4933.        , 4817.        ],\n",
       "       [  50.10962799,   52.        , 4732.        , 5659.        ],\n",
       "       [  52.        ,   54.        , 4697.        , 5413.        ],\n",
       "       [  54.        ,   56.        , 4660.        , 4505.        ],\n",
       "       [  56.        ,   58.84702988, 4480.        , 4856.        ],\n",
       "       [  58.84702988,   61.        , 6777.        , 3776.        ],\n",
       "       [  61.        ,   64.        , 7005.        , 3801.        ],\n",
       "       [  64.        ,   68.        , 6644.        , 2684.        ],\n",
       "       [  68.        ,   74.        , 6766.        , 2015.        ],\n",
       "       [  74.        ,  109.        , 7754.        , 1530.        ]])"
      ]
     },
     "execution_count": 29,
     "metadata": {},
     "output_type": "execute_result"
    }
   ],
   "source": [
    "num_bin = num_bins.copy()\n",
    "num_bin = np.array(num_bin)\n",
    "num_bin"
   ]
  },
  {
   "cell_type": "code",
   "execution_count": 38,
   "metadata": {},
   "outputs": [
    {
     "data": {
      "text/plain": [
       "[(21.0, 48.582034871531704, 39420, 58084),\n",
       " (48.582034871531704, 58.847029880111094, 23502, 25250),\n",
       " (58.847029880111094, 64.0, 13782, 7577),\n",
       " (64.0, 109.0, 21164, 6229)]"
      ]
     },
     "execution_count": 38,
     "metadata": {},
     "output_type": "execute_result"
    }
   ],
   "source": [
    "afterbin = get_bin(num_bin,4)\n",
    "afterbin"
   ]
  },
  {
   "cell_type": "code",
   "execution_count": 37,
   "metadata": {},
   "outputs": [
    {
     "data": {
      "text/html": [
       "<div>\n",
       "<style scoped>\n",
       "    .dataframe tbody tr th:only-of-type {\n",
       "        vertical-align: middle;\n",
       "    }\n",
       "\n",
       "    .dataframe tbody tr th {\n",
       "        vertical-align: top;\n",
       "    }\n",
       "\n",
       "    .dataframe thead th {\n",
       "        text-align: right;\n",
       "    }\n",
       "</style>\n",
       "<table border=\"1\" class=\"dataframe\">\n",
       "  <thead>\n",
       "    <tr style=\"text-align: right;\">\n",
       "      <th></th>\n",
       "      <th>min</th>\n",
       "      <th>max</th>\n",
       "      <th>count_0</th>\n",
       "      <th>count_1</th>\n",
       "      <th>total</th>\n",
       "      <th>percentage</th>\n",
       "      <th>bad_rate</th>\n",
       "      <th>good%</th>\n",
       "      <th>bad%</th>\n",
       "      <th>woe</th>\n",
       "    </tr>\n",
       "  </thead>\n",
       "  <tbody>\n",
       "    <tr>\n",
       "      <th>0</th>\n",
       "      <td>21.000000</td>\n",
       "      <td>28.000000</td>\n",
       "      <td>4226</td>\n",
       "      <td>6048</td>\n",
       "      <td>10274</td>\n",
       "      <td>0.052685</td>\n",
       "      <td>0.588670</td>\n",
       "      <td>0.043181</td>\n",
       "      <td>0.062261</td>\n",
       "      <td>-0.365938</td>\n",
       "    </tr>\n",
       "    <tr>\n",
       "      <th>1</th>\n",
       "      <td>28.000000</td>\n",
       "      <td>31.042013</td>\n",
       "      <td>3558</td>\n",
       "      <td>5669</td>\n",
       "      <td>9227</td>\n",
       "      <td>0.047316</td>\n",
       "      <td>0.614393</td>\n",
       "      <td>0.036355</td>\n",
       "      <td>0.058359</td>\n",
       "      <td>-0.473281</td>\n",
       "    </tr>\n",
       "    <tr>\n",
       "      <th>2</th>\n",
       "      <td>31.042013</td>\n",
       "      <td>34.000000</td>\n",
       "      <td>4056</td>\n",
       "      <td>6554</td>\n",
       "      <td>10610</td>\n",
       "      <td>0.054408</td>\n",
       "      <td>0.617719</td>\n",
       "      <td>0.041444</td>\n",
       "      <td>0.067470</td>\n",
       "      <td>-0.487345</td>\n",
       "    </tr>\n",
       "    <tr>\n",
       "      <th>3</th>\n",
       "      <td>34.000000</td>\n",
       "      <td>36.744696</td>\n",
       "      <td>2824</td>\n",
       "      <td>6067</td>\n",
       "      <td>8891</td>\n",
       "      <td>0.045593</td>\n",
       "      <td>0.682375</td>\n",
       "      <td>0.028855</td>\n",
       "      <td>0.062456</td>\n",
       "      <td>-0.772176</td>\n",
       "    </tr>\n",
       "    <tr>\n",
       "      <th>4</th>\n",
       "      <td>36.744696</td>\n",
       "      <td>39.000000</td>\n",
       "      <td>5126</td>\n",
       "      <td>5790</td>\n",
       "      <td>10916</td>\n",
       "      <td>0.055977</td>\n",
       "      <td>0.530414</td>\n",
       "      <td>0.052377</td>\n",
       "      <td>0.059605</td>\n",
       "      <td>-0.129273</td>\n",
       "    </tr>\n",
       "    <tr>\n",
       "      <th>5</th>\n",
       "      <td>39.000000</td>\n",
       "      <td>41.000000</td>\n",
       "      <td>3935</td>\n",
       "      <td>5543</td>\n",
       "      <td>9478</td>\n",
       "      <td>0.048603</td>\n",
       "      <td>0.584828</td>\n",
       "      <td>0.040207</td>\n",
       "      <td>0.057062</td>\n",
       "      <td>-0.350091</td>\n",
       "    </tr>\n",
       "    <tr>\n",
       "      <th>6</th>\n",
       "      <td>41.000000</td>\n",
       "      <td>43.000000</td>\n",
       "      <td>4044</td>\n",
       "      <td>5703</td>\n",
       "      <td>9747</td>\n",
       "      <td>0.049983</td>\n",
       "      <td>0.585103</td>\n",
       "      <td>0.041321</td>\n",
       "      <td>0.058709</td>\n",
       "      <td>-0.351224</td>\n",
       "    </tr>\n",
       "    <tr>\n",
       "      <th>7</th>\n",
       "      <td>43.000000</td>\n",
       "      <td>45.000000</td>\n",
       "      <td>4407</td>\n",
       "      <td>5648</td>\n",
       "      <td>10055</td>\n",
       "      <td>0.051562</td>\n",
       "      <td>0.561711</td>\n",
       "      <td>0.045030</td>\n",
       "      <td>0.058143</td>\n",
       "      <td>-0.255574</td>\n",
       "    </tr>\n",
       "    <tr>\n",
       "      <th>8</th>\n",
       "      <td>45.000000</td>\n",
       "      <td>47.000000</td>\n",
       "      <td>4757</td>\n",
       "      <td>6388</td>\n",
       "      <td>11145</td>\n",
       "      <td>0.057152</td>\n",
       "      <td>0.573172</td>\n",
       "      <td>0.048606</td>\n",
       "      <td>0.065761</td>\n",
       "      <td>-0.302270</td>\n",
       "    </tr>\n",
       "    <tr>\n",
       "      <th>9</th>\n",
       "      <td>47.000000</td>\n",
       "      <td>48.582035</td>\n",
       "      <td>2487</td>\n",
       "      <td>4674</td>\n",
       "      <td>7161</td>\n",
       "      <td>0.036722</td>\n",
       "      <td>0.652702</td>\n",
       "      <td>0.025412</td>\n",
       "      <td>0.048116</td>\n",
       "      <td>-0.638404</td>\n",
       "    </tr>\n",
       "    <tr>\n",
       "      <th>10</th>\n",
       "      <td>48.582035</td>\n",
       "      <td>50.109628</td>\n",
       "      <td>4933</td>\n",
       "      <td>4817</td>\n",
       "      <td>9750</td>\n",
       "      <td>0.049998</td>\n",
       "      <td>0.494051</td>\n",
       "      <td>0.050405</td>\n",
       "      <td>0.049588</td>\n",
       "      <td>0.016330</td>\n",
       "    </tr>\n",
       "    <tr>\n",
       "      <th>11</th>\n",
       "      <td>50.109628</td>\n",
       "      <td>52.000000</td>\n",
       "      <td>4732</td>\n",
       "      <td>5659</td>\n",
       "      <td>10391</td>\n",
       "      <td>0.053285</td>\n",
       "      <td>0.544606</td>\n",
       "      <td>0.048351</td>\n",
       "      <td>0.058256</td>\n",
       "      <td>-0.186366</td>\n",
       "    </tr>\n",
       "    <tr>\n",
       "      <th>12</th>\n",
       "      <td>52.000000</td>\n",
       "      <td>54.000000</td>\n",
       "      <td>4697</td>\n",
       "      <td>5413</td>\n",
       "      <td>10110</td>\n",
       "      <td>0.051844</td>\n",
       "      <td>0.535410</td>\n",
       "      <td>0.047993</td>\n",
       "      <td>0.055724</td>\n",
       "      <td>-0.149346</td>\n",
       "    </tr>\n",
       "    <tr>\n",
       "      <th>13</th>\n",
       "      <td>54.000000</td>\n",
       "      <td>56.000000</td>\n",
       "      <td>4660</td>\n",
       "      <td>4505</td>\n",
       "      <td>9165</td>\n",
       "      <td>0.046998</td>\n",
       "      <td>0.491544</td>\n",
       "      <td>0.047615</td>\n",
       "      <td>0.046376</td>\n",
       "      <td>0.026361</td>\n",
       "    </tr>\n",
       "    <tr>\n",
       "      <th>14</th>\n",
       "      <td>56.000000</td>\n",
       "      <td>58.847030</td>\n",
       "      <td>4480</td>\n",
       "      <td>4856</td>\n",
       "      <td>9336</td>\n",
       "      <td>0.047875</td>\n",
       "      <td>0.520137</td>\n",
       "      <td>0.045776</td>\n",
       "      <td>0.049990</td>\n",
       "      <td>-0.088058</td>\n",
       "    </tr>\n",
       "    <tr>\n",
       "      <th>15</th>\n",
       "      <td>58.847030</td>\n",
       "      <td>61.000000</td>\n",
       "      <td>6777</td>\n",
       "      <td>3776</td>\n",
       "      <td>10553</td>\n",
       "      <td>0.054116</td>\n",
       "      <td>0.357813</td>\n",
       "      <td>0.069246</td>\n",
       "      <td>0.038872</td>\n",
       "      <td>0.577403</td>\n",
       "    </tr>\n",
       "    <tr>\n",
       "      <th>16</th>\n",
       "      <td>61.000000</td>\n",
       "      <td>64.000000</td>\n",
       "      <td>7005</td>\n",
       "      <td>3801</td>\n",
       "      <td>10806</td>\n",
       "      <td>0.055413</td>\n",
       "      <td>0.351749</td>\n",
       "      <td>0.071576</td>\n",
       "      <td>0.039129</td>\n",
       "      <td>0.603894</td>\n",
       "    </tr>\n",
       "    <tr>\n",
       "      <th>17</th>\n",
       "      <td>64.000000</td>\n",
       "      <td>68.000000</td>\n",
       "      <td>6644</td>\n",
       "      <td>2684</td>\n",
       "      <td>9328</td>\n",
       "      <td>0.047834</td>\n",
       "      <td>0.287736</td>\n",
       "      <td>0.067887</td>\n",
       "      <td>0.027630</td>\n",
       "      <td>0.898940</td>\n",
       "    </tr>\n",
       "    <tr>\n",
       "      <th>18</th>\n",
       "      <td>68.000000</td>\n",
       "      <td>74.000000</td>\n",
       "      <td>6766</td>\n",
       "      <td>2015</td>\n",
       "      <td>8781</td>\n",
       "      <td>0.045029</td>\n",
       "      <td>0.229473</td>\n",
       "      <td>0.069134</td>\n",
       "      <td>0.020743</td>\n",
       "      <td>1.203824</td>\n",
       "    </tr>\n",
       "    <tr>\n",
       "      <th>19</th>\n",
       "      <td>74.000000</td>\n",
       "      <td>109.000000</td>\n",
       "      <td>7754</td>\n",
       "      <td>1530</td>\n",
       "      <td>9284</td>\n",
       "      <td>0.047608</td>\n",
       "      <td>0.164800</td>\n",
       "      <td>0.079229</td>\n",
       "      <td>0.015750</td>\n",
       "      <td>1.615475</td>\n",
       "    </tr>\n",
       "  </tbody>\n",
       "</table>\n",
       "</div>"
      ],
      "text/plain": [
       "          min         max  count_0  count_1  total  percentage  bad_rate  \\\n",
       "0   21.000000   28.000000     4226     6048  10274    0.052685  0.588670   \n",
       "1   28.000000   31.042013     3558     5669   9227    0.047316  0.614393   \n",
       "2   31.042013   34.000000     4056     6554  10610    0.054408  0.617719   \n",
       "3   34.000000   36.744696     2824     6067   8891    0.045593  0.682375   \n",
       "4   36.744696   39.000000     5126     5790  10916    0.055977  0.530414   \n",
       "5   39.000000   41.000000     3935     5543   9478    0.048603  0.584828   \n",
       "6   41.000000   43.000000     4044     5703   9747    0.049983  0.585103   \n",
       "7   43.000000   45.000000     4407     5648  10055    0.051562  0.561711   \n",
       "8   45.000000   47.000000     4757     6388  11145    0.057152  0.573172   \n",
       "9   47.000000   48.582035     2487     4674   7161    0.036722  0.652702   \n",
       "10  48.582035   50.109628     4933     4817   9750    0.049998  0.494051   \n",
       "11  50.109628   52.000000     4732     5659  10391    0.053285  0.544606   \n",
       "12  52.000000   54.000000     4697     5413  10110    0.051844  0.535410   \n",
       "13  54.000000   56.000000     4660     4505   9165    0.046998  0.491544   \n",
       "14  56.000000   58.847030     4480     4856   9336    0.047875  0.520137   \n",
       "15  58.847030   61.000000     6777     3776  10553    0.054116  0.357813   \n",
       "16  61.000000   64.000000     7005     3801  10806    0.055413  0.351749   \n",
       "17  64.000000   68.000000     6644     2684   9328    0.047834  0.287736   \n",
       "18  68.000000   74.000000     6766     2015   8781    0.045029  0.229473   \n",
       "19  74.000000  109.000000     7754     1530   9284    0.047608  0.164800   \n",
       "\n",
       "       good%      bad%       woe  \n",
       "0   0.043181  0.062261 -0.365938  \n",
       "1   0.036355  0.058359 -0.473281  \n",
       "2   0.041444  0.067470 -0.487345  \n",
       "3   0.028855  0.062456 -0.772176  \n",
       "4   0.052377  0.059605 -0.129273  \n",
       "5   0.040207  0.057062 -0.350091  \n",
       "6   0.041321  0.058709 -0.351224  \n",
       "7   0.045030  0.058143 -0.255574  \n",
       "8   0.048606  0.065761 -0.302270  \n",
       "9   0.025412  0.048116 -0.638404  \n",
       "10  0.050405  0.049588  0.016330  \n",
       "11  0.048351  0.058256 -0.186366  \n",
       "12  0.047993  0.055724 -0.149346  \n",
       "13  0.047615  0.046376  0.026361  \n",
       "14  0.045776  0.049990 -0.088058  \n",
       "15  0.069246  0.038872  0.577403  \n",
       "16  0.071576  0.039129  0.603894  \n",
       "17  0.067887  0.027630  0.898940  \n",
       "18  0.069134  0.020743  1.203824  \n",
       "19  0.079229  0.015750  1.615475  "
      ]
     },
     "execution_count": 37,
     "metadata": {},
     "output_type": "execute_result"
    }
   ],
   "source": [
    "bin_df =get_woe(num_bin)\n",
    "bin_df"
   ]
  },
  {
   "cell_type": "markdown",
   "metadata": {},
   "source": [
    "### 将选取最佳分箱个数的过程封装为函数"
   ]
  },
  {
   "cell_type": "code",
   "execution_count": 3,
   "metadata": {},
   "outputs": [],
   "source": [
    "def get_best_bin(DF,X,y,n=5,q=20,graph=True):\n",
    "    global bins_df\n",
    "    DF=DF[[X,y]].copy()\n",
    "    DF['qcut'],bins = pd.qcut(DF[X],retbins=True,q=q,duplicates='drop')\n",
    "    count_y0 = DF.loc[DF[y]==0].groupby(by='qcut').count()[y]\n",
    "    count_y1 = DF.loc[DF[y]==1].groupby(by='qcut').count()[y]\n",
    "    num_bins = [*zip(bins,bins[1:],count_y0,count_y1)]\n",
    "    \n",
    "    for i in range(q):\n",
    "        if 0 in num_bins[0][2:]:\n",
    "            num_bins[0:2]=[(num_bins[0][0],num_bins[1][1],num_bins[0][2]+num_bins[1][2],num_bins[0][3]+num_bins[1][3])]\n",
    "            continue\n",
    "        \n",
    "        for a in range(len(num_bins)):\n",
    "            if 0 in num_bins[a][2:]:\n",
    "                num_bins[a-1:a+1]=[(num_bins[a-1][0],num_bins[a][1],num_bins[a-1][2]+num_bins[a][2],num_bins[a-1][3]+num_bins[a][3])]\n",
    "                break           \n",
    "        else:\n",
    "                break\n",
    "            \n",
    "    def get_woe(num_bin):\n",
    "        columns = ['min','max','count0','count1']\n",
    "        df = pd.DataFrame(num_bin,columns=columns)\n",
    "        df['total']=df['count0']+df['count1']\n",
    "        df['percentage']=df['total']/df['total'].sum()\n",
    "        df['bad_rate']=df['count1']/df['total']\n",
    "        df['good%']=df['count0']/df['count0'].sum()\n",
    "        df['bad%']=df['count1']/df['count1'].sum()\n",
    "        df['woe']=np.log(df['good%']/df['bad%'])\n",
    "        return df\n",
    "    def get_iv(df):\n",
    "        iv = np.sum((df['good%']-df['bad%'])*df['woe'])\n",
    "        return iv\n",
    "    IV=[]\n",
    "    axisx=[]\n",
    "    import scipy\n",
    "    while len(num_bins)>n:\n",
    "\n",
    "        pvs=[]\n",
    "        for i in range(len(num_bins)-1):\n",
    "            x1 = num_bins[i][2:]\n",
    "            x2 = num_bins[i+1][2:]\n",
    "            pv = scipy.stats.chi2_contingency([x1,x2])[1]\n",
    "            pvs.append(pv)\n",
    "        i = pvs.index(max(pvs))\n",
    "        num_bins[i:i+2]=[(num_bins[i][0],num_bins[i+1][1],num_bins[i][2]+num_bins[i+1][2],num_bins[i][3]+num_bins[i+1][3])]\n",
    "        bins_df = pd.DataFrame(get_woe(num_bins))\n",
    "        axisx.append(len(num_bins))\n",
    "        IV.append(get_iv(bins_df))\n",
    "    if graph:\n",
    "        import matplotlib.pyplot as plt\n",
    "        plt.figure()\n",
    "        plt.plot(axisx,IV)\n",
    "        plt.xlabel('Number of bins')\n",
    "        plt.ylabel('IV')\n",
    "        plt.show()\n",
    "    return bins_df\n",
    "            \n",
    "                                    \n",
    "            "
   ]
  },
  {
   "cell_type": "markdown",
   "metadata": {},
   "source": [
    "### 对所有特征进行分箱"
   ]
  },
  {
   "cell_type": "code",
   "execution_count": 4,
   "metadata": {},
   "outputs": [
    {
     "data": {
      "text/plain": [
       "Index(['SeriousDlqin2yrs', 'RevolvingUtilizationOfUnsecuredLines', 'age',\n",
       "       'NumberOfTime30-59DaysPastDueNotWorse', 'DebtRatio', 'MonthlyIncome',\n",
       "       'NumberOfOpenCreditLinesAndLoans', 'NumberOfTimes90DaysLate',\n",
       "       'NumberRealEstateLoansOrLines', 'NumberOfTime60-89DaysPastDueNotWorse',\n",
       "       'NumberOfDependents'],\n",
       "      dtype='object')"
      ]
     },
     "execution_count": 4,
     "metadata": {},
     "output_type": "execute_result"
    }
   ],
   "source": [
    "model_data.columns"
   ]
  },
  {
   "cell_type": "code",
   "execution_count": 34,
   "metadata": {},
   "outputs": [
    {
     "name": "stdout",
     "output_type": "stream",
     "text": [
      "RevolvingUtilizationOfUnsecuredLines\n"
     ]
    },
    {
     "data": {
      "image/png": "[encoded data removed]",
      "text/plain": [
       "<Figure size 432x288 with 1 Axes>"
      ]
     },
     "metadata": {},
     "output_type": "display_data"
    },
    {
     "name": "stdout",
     "output_type": "stream",
     "text": [
      "age\n"
     ]
    },
    {
     "data": {
      "image/png": "[encoded data removed]",
      "text/plain": [
       "<Figure size 432x288 with 1 Axes>"
      ]
     },
     "metadata": {},
     "output_type": "display_data"
    },
    {
     "name": "stdout",
     "output_type": "stream",
     "text": [
      "NumberOfTime30-59DaysPastDueNotWorse\n"
     ]
    },
    {
     "data": {
      "image/png": "[encoded data removed]",
      "text/plain": [
       "<Figure size 432x288 with 1 Axes>"
      ]
     },
     "metadata": {},
     "output_type": "display_data"
    },
    {
     "name": "stdout",
     "output_type": "stream",
     "text": [
      "DebtRatio\n"
     ]
    },
    {
     "data": {
      "image/png": "[encoded data removed]",
      "text/plain": [
       "<Figure size 432x288 with 1 Axes>"
      ]
     },
     "metadata": {},
     "output_type": "display_data"
    },
    {
     "name": "stdout",
     "output_type": "stream",
     "text": [
      "MonthlyIncome\n"
     ]
    },
    {
     "data": {
      "image/png": "[encoded data removed]",
      "text/plain": [
       "<Figure size 432x288 with 1 Axes>"
      ]
     },
     "metadata": {},
     "output_type": "display_data"
    },
    {
     "name": "stdout",
     "output_type": "stream",
     "text": [
      "NumberOfOpenCreditLinesAndLoans\n"
     ]
    },
    {
     "data": {
      "image/png": "[encoded data removed]",
      "text/plain": [
       "<Figure size 432x288 with 1 Axes>"
      ]
     },
     "metadata": {},
     "output_type": "display_data"
    },
    {
     "name": "stdout",
     "output_type": "stream",
     "text": [
      "NumberOfTimes90DaysLate\n"
     ]
    },
    {
     "data": {
      "image/png": "[encoded data removed]",
      "text/plain": [
       "<Figure size 432x288 with 1 Axes>"
      ]
     },
     "metadata": {},
     "output_type": "display_data"
    },
    {
     "name": "stdout",
     "output_type": "stream",
     "text": [
      "NumberRealEstateLoansOrLines\n"
     ]
    },
    {
     "data": {
      "image/png": "[encoded data removed]",
      "text/plain": [
       "<Figure size 432x288 with 1 Axes>"
      ]
     },
     "metadata": {},
     "output_type": "display_data"
    },
    {
     "name": "stdout",
     "output_type": "stream",
     "text": [
      "NumberOfTime60-89DaysPastDueNotWorse\n"
     ]
    },
    {
     "data": {
      "image/png": "[encoded data removed]",
      "text/plain": [
       "<Figure size 432x288 with 1 Axes>"
      ]
     },
     "metadata": {},
     "output_type": "display_data"
    },
    {
     "name": "stdout",
     "output_type": "stream",
     "text": [
      "NumberOfDependents\n"
     ]
    },
    {
     "data": {
      "image/png": "[encoded data removed]",
      "text/plain": [
       "<Figure size 432x288 with 1 Axes>"
      ]
     },
     "metadata": {},
     "output_type": "display_data"
    }
   ],
   "source": [
    "for i in model_data.columns[1:]:\n",
    "    print(i)\n",
    "    a=get_best_bin(model_data,i,'SeriousDlqin2yrs',n=4,q=20)\n",
    "    a"
   ]
  },
  {
   "cell_type": "markdown",
   "metadata": {},
   "source": [
    "### 手动分箱和自动分箱"
   ]
  },
  {
   "cell_type": "code",
   "execution_count": 5,
   "metadata": {},
   "outputs": [],
   "source": [
    "auto_col_bins ={'RevolvingUtilizationOfUnsecuredLines':6,'age':5,'DebtRatio':4,'MonthlyIncome':3,'NumberOfOpenCreditLinesAndLoans':5}\n",
    "hand_bins={'NumberOfTime30-59DaysPastDueNotWorse':[0,1,2,13],'NumberOfTimes90DaysLate':[0,1,2,17],'NumberRealEstateLoansOrLines':[0,1,2,4,54],\n",
    "           'NumberOfTime60-89DaysPastDueNotWorse':[0,1,2,8],'NumberOfDependents':[0,1,2,3]}"
   ]
  },
  {
   "cell_type": "code",
   "execution_count": 6,
   "metadata": {},
   "outputs": [
    {
     "data": {
      "text/plain": [
       "{'NumberOfTime30-59DaysPastDueNotWorse': [-inf, 0, 1, 2, inf],\n",
       " 'NumberOfTimes90DaysLate': [-inf, 0, 1, 2, inf],\n",
       " 'NumberRealEstateLoansOrLines': [-inf, 0, 1, 2, 4, inf],\n",
       " 'NumberOfTime60-89DaysPastDueNotWorse': [-inf, 0, 1, 2, inf],\n",
       " 'NumberOfDependents': [-inf, 0, 1, 2, inf]}"
      ]
     },
     "execution_count": 6,
     "metadata": {},
     "output_type": "execute_result"
    }
   ],
   "source": [
    "hand_bins = {k:[-np.inf,*v[:-1],np.inf] for k,v in hand_bins.items()}\n",
    "hand_bins"
   ]
  },
  {
   "cell_type": "code",
   "execution_count": 7,
   "metadata": {},
   "outputs": [],
   "source": [
    "bins_of_col={}\n",
    "for col in auto_col_bins:\n",
    "    bins_df=get_best_bin(model_data,col,'SeriousDlqin2yrs',n=auto_col_bins[col],q=20,graph=False)\n",
    "    bins_list = sorted(set(bins_df['min']).union(bins_df['max']))\n",
    "    bins_list[0],bins_list[-1] = -np.inf,np.inf\n",
    "    bins_of_col[col] = bins_list\n",
    "bins_of_col.update(hand_bins)\n",
    "# bins_of_col"
   ]
  },
  {
   "cell_type": "markdown",
   "metadata": {},
   "source": [
    "### bins_of_col 为所有特征及对应的分箱"
   ]
  },
  {
   "cell_type": "markdown",
   "metadata": {},
   "source": [
    "### woe映射到数据中"
   ]
  },
  {
   "cell_type": "code",
   "execution_count": 44,
   "metadata": {
    "scrolled": true
   },
   "outputs": [],
   "source": [
    "data= model_data.copy()\n",
    "data=data[['age','SeriousDlqin2yrs']].copy()\n",
    "data['cut']=pd.cut(data['age'],[-np.inf, 48.582034871531704, 58.847029880111094, 64.0, 74.0, np.inf])\n"
   ]
  },
  {
   "cell_type": "code",
   "execution_count": 45,
   "metadata": {},
   "outputs": [
    {
     "data": {
      "text/plain": [
       "cut               SeriousDlqin2yrs\n",
       "(-inf, 48.582]    1                   58084\n",
       "                  0                   39420\n",
       "(48.582, 58.847]  1                   25250\n",
       "                  0                   23502\n",
       "(58.847, 64.0]    0                   13782\n",
       "                  1                    7577\n",
       "(64.0, 74.0]      0                   13410\n",
       "                  1                    4699\n",
       "(74.0, inf]       0                    7754\n",
       "                  1                    1530\n",
       "Name: SeriousDlqin2yrs, dtype: int64"
      ]
     },
     "execution_count": 45,
     "metadata": {},
     "output_type": "execute_result"
    }
   ],
   "source": [
    "data.groupby('cut')['SeriousDlqin2yrs'].value_counts()"
   ]
  },
  {
   "cell_type": "code",
   "execution_count": 48,
   "metadata": {},
   "outputs": [],
   "source": [
    "bins_df=data.groupby('cut')['SeriousDlqin2yrs'].value_counts().unstack()\n",
    "bins_df['woe']=np.log((bins_df[0]/bins_df[0].sum())/(bins_df[1]/bins_df[1].sum()))\n"
   ]
  },
  {
   "cell_type": "code",
   "execution_count": 52,
   "metadata": {},
   "outputs": [
    {
     "data": {
      "text/plain": [
       "CategoricalIndex([(-inf, 48.582], (48.582, 58.847], (58.847, 64.0],\n",
       "                  (64.0, 74.0], (74.0, inf]],\n",
       "                 categories=[(-inf, 48.582], (48.582, 58.847], (58.847, 64.0], (64.0, 74.0], (74.0, inf]], ordered=True, name='cut', dtype='category')"
      ]
     },
     "execution_count": 52,
     "metadata": {},
     "output_type": "execute_result"
    }
   ],
   "source": [
    "bins_df.index"
   ]
  },
  {
   "cell_type": "code",
   "execution_count": 8,
   "metadata": {},
   "outputs": [],
   "source": [
    "def get_woe2(df,col,y,bins):\n",
    "    df=df[[col,y]].copy()\n",
    "    df['cut']=pd.cut(df[col],bins)\n",
    "    bins_df = df.groupby('cut')[y].value_counts().unstack()\n",
    "    woe = bins_df['woe'] = np.log((bins_df[0]/bins_df[0].sum())/(bins_df[1]/bins_df[1].sum()))\n",
    "    return woe\n"
   ]
  },
  {
   "cell_type": "code",
   "execution_count": 9,
   "metadata": {},
   "outputs": [],
   "source": [
    "woeall={}\n",
    "for col in bins_of_col:\n",
    "    woeall[col] = get_woe2(model_data,col,'SeriousDlqin2yrs',bins_of_col[col])\n",
    "# woeall    #得到所有特征的分箱，及每个箱对应的woe值"
   ]
  },
  {
   "cell_type": "code",
   "execution_count": 10,
   "metadata": {},
   "outputs": [
    {
     "data": {
      "text/plain": [
       "cut\n",
       "(-inf, 48.582]     -0.395083\n",
       "(48.582, 58.847]   -0.079207\n",
       "(58.847, 64.0]      0.590780\n",
       "(64.0, 74.0]        1.041185\n",
       "(74.0, inf]         1.615475\n",
       "dtype: float64"
      ]
     },
     "execution_count": 10,
     "metadata": {},
     "output_type": "execute_result"
    }
   ],
   "source": [
    "woeall['age']"
   ]
  },
  {
   "cell_type": "markdown",
   "metadata": {},
   "source": [
    "### 将所有WOE值映射到原始数据中"
   ]
  },
  {
   "cell_type": "code",
   "execution_count": 11,
   "metadata": {},
   "outputs": [
    {
     "data": {
      "text/html": [
       "<div>\n",
       "<style scoped>\n",
       "    .dataframe tbody tr th:only-of-type {\n",
       "        vertical-align: middle;\n",
       "    }\n",
       "\n",
       "    .dataframe tbody tr th {\n",
       "        vertical-align: top;\n",
       "    }\n",
       "\n",
       "    .dataframe thead th {\n",
       "        text-align: right;\n",
       "    }\n",
       "</style>\n",
       "<table border=\"1\" class=\"dataframe\">\n",
       "  <thead>\n",
       "    <tr style=\"text-align: right;\">\n",
       "      <th></th>\n",
       "      <th>RevolvingUtilizationOfUnsecuredLines</th>\n",
       "      <th>age</th>\n",
       "      <th>DebtRatio</th>\n",
       "      <th>MonthlyIncome</th>\n",
       "      <th>NumberOfOpenCreditLinesAndLoans</th>\n",
       "      <th>NumberOfTime30-59DaysPastDueNotWorse</th>\n",
       "      <th>NumberOfTimes90DaysLate</th>\n",
       "      <th>NumberRealEstateLoansOrLines</th>\n",
       "      <th>NumberOfTime60-89DaysPastDueNotWorse</th>\n",
       "      <th>NumberOfDependents</th>\n",
       "      <th>SeriousDlqin2yrs</th>\n",
       "    </tr>\n",
       "  </thead>\n",
       "  <tbody>\n",
       "    <tr>\n",
       "      <th>0</th>\n",
       "      <td>-0.510570</td>\n",
       "      <td>-0.395083</td>\n",
       "      <td>-0.007951</td>\n",
       "      <td>-0.233551</td>\n",
       "      <td>-0.206499</td>\n",
       "      <td>1.093394</td>\n",
       "      <td>-2.558999</td>\n",
       "      <td>0.206831</td>\n",
       "      <td>-2.458632</td>\n",
       "      <td>-0.588293</td>\n",
       "      <td>1</td>\n",
       "    </tr>\n",
       "    <tr>\n",
       "      <th>1</th>\n",
       "      <td>1.508228</td>\n",
       "      <td>0.590780</td>\n",
       "      <td>-0.007951</td>\n",
       "      <td>0.233536</td>\n",
       "      <td>0.020344</td>\n",
       "      <td>1.093394</td>\n",
       "      <td>0.690155</td>\n",
       "      <td>-0.123129</td>\n",
       "      <td>0.536771</td>\n",
       "      <td>0.624825</td>\n",
       "      <td>0</td>\n",
       "    </tr>\n",
       "    <tr>\n",
       "      <th>2</th>\n",
       "      <td>2.654415</td>\n",
       "      <td>-0.079207</td>\n",
       "      <td>-0.480763</td>\n",
       "      <td>-0.233551</td>\n",
       "      <td>0.020344</td>\n",
       "      <td>1.093394</td>\n",
       "      <td>0.690155</td>\n",
       "      <td>-0.123129</td>\n",
       "      <td>0.536771</td>\n",
       "      <td>0.624825</td>\n",
       "      <td>0</td>\n",
       "    </tr>\n",
       "    <tr>\n",
       "      <th>3</th>\n",
       "      <td>-1.070373</td>\n",
       "      <td>1.041185</td>\n",
       "      <td>0.175908</td>\n",
       "      <td>1.315641</td>\n",
       "      <td>0.020344</td>\n",
       "      <td>-1.380968</td>\n",
       "      <td>0.690155</td>\n",
       "      <td>-0.123129</td>\n",
       "      <td>0.536771</td>\n",
       "      <td>0.624825</td>\n",
       "      <td>1</td>\n",
       "    </tr>\n",
       "    <tr>\n",
       "      <th>4</th>\n",
       "      <td>2.654415</td>\n",
       "      <td>-0.395083</td>\n",
       "      <td>-0.007951</td>\n",
       "      <td>0.233536</td>\n",
       "      <td>1.797662</td>\n",
       "      <td>1.093394</td>\n",
       "      <td>0.690155</td>\n",
       "      <td>-0.001193</td>\n",
       "      <td>0.536771</td>\n",
       "      <td>0.624825</td>\n",
       "      <td>0</td>\n",
       "    </tr>\n",
       "  </tbody>\n",
       "</table>\n",
       "</div>"
      ],
      "text/plain": [
       "   RevolvingUtilizationOfUnsecuredLines       age  DebtRatio  MonthlyIncome  \\\n",
       "0                             -0.510570 -0.395083  -0.007951      -0.233551   \n",
       "1                              1.508228  0.590780  -0.007951       0.233536   \n",
       "2                              2.654415 -0.079207  -0.480763      -0.233551   \n",
       "3                             -1.070373  1.041185   0.175908       1.315641   \n",
       "4                              2.654415 -0.395083  -0.007951       0.233536   \n",
       "\n",
       "   NumberOfOpenCreditLinesAndLoans  NumberOfTime30-59DaysPastDueNotWorse  \\\n",
       "0                        -0.206499                              1.093394   \n",
       "1                         0.020344                              1.093394   \n",
       "2                         0.020344                              1.093394   \n",
       "3                         0.020344                             -1.380968   \n",
       "4                         1.797662                              1.093394   \n",
       "\n",
       "   NumberOfTimes90DaysLate  NumberRealEstateLoansOrLines  \\\n",
       "0                -2.558999                      0.206831   \n",
       "1                 0.690155                     -0.123129   \n",
       "2                 0.690155                     -0.123129   \n",
       "3                 0.690155                     -0.123129   \n",
       "4                 0.690155                     -0.001193   \n",
       "\n",
       "   NumberOfTime60-89DaysPastDueNotWorse  NumberOfDependents  SeriousDlqin2yrs  \n",
       "0                             -2.458632           -0.588293                 1  \n",
       "1                              0.536771            0.624825                 0  \n",
       "2                              0.536771            0.624825                 0  \n",
       "3                              0.536771            0.624825                 1  \n",
       "4                              0.536771            0.624825                 0  "
      ]
     },
     "execution_count": 11,
     "metadata": {},
     "output_type": "execute_result"
    }
   ],
   "source": [
    "model_woe = pd.DataFrame(index = model_data.index)\n",
    "for col in bins_of_col:\n",
    "    model_woe[col]=pd.cut(model_data[col],bins_of_col[col]).map(woeall[col]) # 重点地方\n",
    "model_woe['SeriousDlqin2yrs']=model_data['SeriousDlqin2yrs']\n",
    "model_woe.head()"
   ]
  },
  {
   "cell_type": "code",
   "execution_count": 60,
   "metadata": {},
   "outputs": [
    {
     "data": {
      "text/plain": [
       "(195008, 11)"
      ]
     },
     "execution_count": 60,
     "metadata": {},
     "output_type": "execute_result"
    }
   ],
   "source": [
    "model_woe.shape"
   ]
  },
  {
   "cell_type": "code",
   "execution_count": 61,
   "metadata": {},
   "outputs": [
    {
     "data": {
      "text/plain": [
       "(195008, 11)"
      ]
     },
     "execution_count": 61,
     "metadata": {},
     "output_type": "execute_result"
    }
   ],
   "source": [
    "model_data.shape"
   ]
  },
  {
   "cell_type": "markdown",
   "metadata": {},
   "source": [
    "### 以上为建模数据的处理，接下来开始建模"
   ]
  },
  {
   "cell_type": "code",
   "execution_count": 12,
   "metadata": {},
   "outputs": [],
   "source": [
    "vali_woe = pd.DataFrame(index=vali_data.index)\n",
    "for col in bins_of_col:\n",
    "    vali_woe[col] = pd.cut(vali_data[col],bins_of_col[col]).map(woeall[col])\n",
    "vali_woe['SeriousDlqin2yrs']=vali_data['SeriousDlqin2yrs']\n"
   ]
  },
  {
   "cell_type": "code",
   "execution_count": 65,
   "metadata": {},
   "outputs": [
    {
     "data": {
      "text/plain": [
       "(83576, 11)"
      ]
     },
     "execution_count": 65,
     "metadata": {},
     "output_type": "execute_result"
    }
   ],
   "source": [
    "vali_woe.shape\n"
   ]
  },
  {
   "cell_type": "code",
   "execution_count": 66,
   "metadata": {},
   "outputs": [
    {
     "data": {
      "text/plain": [
       "(83576, 11)"
      ]
     },
     "execution_count": 66,
     "metadata": {},
     "output_type": "execute_result"
    }
   ],
   "source": [
    "vali_data.shape"
   ]
  },
  {
   "cell_type": "code",
   "execution_count": 15,
   "metadata": {},
   "outputs": [],
   "source": [
    "vali_x= vali_woe.iloc[:,:-1]\n",
    "vali_y= vali_woe.iloc[:,-1]"
   ]
  },
  {
   "cell_type": "markdown",
   "metadata": {},
   "source": [
    "### 开始建模"
   ]
  },
  {
   "cell_type": "code",
   "execution_count": 13,
   "metadata": {},
   "outputs": [],
   "source": [
    "X = model_woe.iloc[:,:-1]\n",
    "y = model_woe.iloc[:,-1]\n",
    "from sklearn.linear_model import LogisticRegression as LR\n"
   ]
  },
  {
   "cell_type": "code",
   "execution_count": 16,
   "metadata": {},
   "outputs": [
    {
     "name": "stderr",
     "output_type": "stream",
     "text": [
      "C:\\Users\\zhuxi\\Anaconda3\\lib\\site-packages\\sklearn\\linear_model\\logistic.py:433: FutureWarning: Default solver will be changed to 'lbfgs' in 0.22. Specify a solver to silence this warning.\n",
      "  FutureWarning)\n"
     ]
    },
    {
     "data": {
      "text/plain": [
       "0.8637886474586005"
      ]
     },
     "execution_count": 16,
     "metadata": {},
     "output_type": "execute_result"
    }
   ],
   "source": [
    "lr = LR().fit(X,y)\n",
    "lr.score(vali_x,vali_y)"
   ]
  },
  {
   "cell_type": "code",
   "execution_count": 74,
   "metadata": {},
   "outputs": [
    {
     "data": {
      "image/png": "[encoded data removed]",
      "text/plain": [
       "<Figure size 432x288 with 1 Axes>"
      ]
     },
     "metadata": {},
     "output_type": "display_data"
    }
   ],
   "source": [
    "import matplotlib.pyplot as plt\n",
    "c_1 = np.linspace(0.01,1,20)\n",
    "c_2 = np.linspace(0.01,0.2,20)\n",
    "score=[]\n",
    "for i in c_2:\n",
    "    lr = LR(solver='liblinear',C=i).fit(X,y)\n",
    "    score.append(lr.score(vali_x,vali_y))\n",
    "plt.figure()\n",
    "plt.plot(c_2,score)\n",
    "plt.show()"
   ]
  },
  {
   "cell_type": "code",
   "execution_count": 75,
   "metadata": {},
   "outputs": [
    {
     "data": {
      "image/png": "[encoded data removed]",
      "text/plain": [
       "<Figure size 432x288 with 1 Axes>"
      ]
     },
     "metadata": {},
     "output_type": "display_data"
    }
   ],
   "source": [
    "score1=[]\n",
    "for i in c_1:\n",
    "    lr = LR(solver='liblinear',C=i).fit(X,y)\n",
    "    score1.append(lr.score(vali_x,vali_y))\n",
    "plt.figure()\n",
    "plt.plot(c_1,score1)\n",
    "plt.show()"
   ]
  },
  {
   "cell_type": "code",
   "execution_count": 76,
   "metadata": {},
   "outputs": [
    {
     "data": {
      "text/plain": [
       "<matplotlib.axes._subplots.AxesSubplot at 0x23bb4a5d048>"
      ]
     },
     "execution_count": 76,
     "metadata": {},
     "output_type": "execute_result"
    },
    {
     "data": {
      "image/png": "[encoded data removed]",
      "text/plain": [
       "<Figure size 432x432 with 1 Axes>"
      ]
     },
     "metadata": {},
     "output_type": "display_data"
    }
   ],
   "source": [
    "import scikitplot as skplt\n",
    "vali_proba_df = pd.DataFrame(lr.predict_proba(vali_x))\n",
    "skplt.metrics.plot_roc(vali_y,vali_proba_df,plot_micro=False,figsize=(6,6),plot_macro=False)"
   ]
  },
  {
   "cell_type": "markdown",
   "metadata": {},
   "source": [
    "### 输出评分卡结果"
   ]
  },
  {
   "cell_type": "code",
   "execution_count": 17,
   "metadata": {},
   "outputs": [],
   "source": [
    "B = 20/np.log(2)\n",
    "A = 600+B*np.log(1/60)"
   ]
  },
  {
   "cell_type": "code",
   "execution_count": 18,
   "metadata": {},
   "outputs": [
    {
     "data": {
      "text/plain": [
       "array([481.58995544])"
      ]
     },
     "execution_count": 18,
     "metadata": {},
     "output_type": "execute_result"
    }
   ],
   "source": [
    "base_score = A-B*lr.intercept_\n",
    "base_score"
   ]
  },
  {
   "cell_type": "code",
   "execution_count": 25,
   "metadata": {},
   "outputs": [],
   "source": [
    "file = 'D:/sklearn-data/give-me-some-credit-dataset/ScoreData.csv'\n",
    "with open(file,'w') as fp:\n",
    "    fp.write('base_score,{}\\n'.format(base_score))\n",
    "for i,col in enumerate(X.columns):\n",
    "    score=woeall[col]*(-B*lr.coef_[0][i])     #计算每个特征中每个分箱对应的分数 ，索引是每个分箱的区间\n",
    "    score.name=\"Score\"                       #给分数列加上列名 Score\n",
    "    score.index.name=col                       #给索引列加上列名，即特征名\n",
    "    score.to_csv(file,header=True,mode='a')"
   ]
  },
  {
   "cell_type": "code",
   "execution_count": null,
   "metadata": {},
   "outputs": [],
   "source": []
  }
 ],
 "metadata": {
  "kernelspec": {
   "display_name": "Python 3",
   "language": "python",
   "name": "python3"
  },
  "language_info": {
   "codemirror_mode": {
    "name": "ipython",
    "version": 3
   },
   "file_extension": ".py",
   "mimetype": "text/x-python",
   "name": "python",
   "nbconvert_exporter": "python",
   "pygments_lexer": "ipython3",
   "version": "3.6.5"
  }
 },
 "nbformat": 4,
 "nbformat_minor": 2
}
