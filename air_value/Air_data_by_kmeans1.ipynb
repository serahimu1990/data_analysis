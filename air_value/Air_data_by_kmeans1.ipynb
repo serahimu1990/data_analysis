{
 "cells": [
  {
   "cell_type": "code",
   "execution_count": 1,
   "metadata": {},
   "outputs": [],
   "source": [
    "import numpy as np \n",
    "import pandas as pd\n",
    "import matplotlib.pyplot as plt\n",
    "from sklearn.cluster import KMeans"
   ]
  },
  {
   "cell_type": "code",
   "execution_count": 2,
   "metadata": {},
   "outputs": [
    {
     "data": {
      "text/plain": [
       "(62988, 43)"
      ]
     },
     "execution_count": 2,
     "metadata": {},
     "output_type": "execute_result"
    }
   ],
   "source": [
    "data = pd.read_csv(r'D:\\sklearn-data\\kmeans\\air_data.csv',index_col=0)\n",
    "data.shape"
   ]
  },
  {
   "cell_type": "code",
   "execution_count": 3,
   "metadata": {
    "scrolled": true
   },
   "outputs": [
    {
     "name": "stdout",
     "output_type": "stream",
     "text": [
      "<class 'pandas.core.frame.DataFrame'>\n",
      "Int64Index: 62988 entries, 54993 to 61340\n",
      "Data columns (total 43 columns):\n",
      "FFP_DATE                   62988 non-null object\n",
      "FIRST_FLIGHT_DATE          62988 non-null object\n",
      "GENDER                     62985 non-null object\n",
      "FFP_TIER                   62988 non-null int64\n",
      "WORK_CITY                  60719 non-null object\n",
      "WORK_PROVINCE              59740 non-null object\n",
      "WORK_COUNTRY               62962 non-null object\n",
      "AGE                        62568 non-null float64\n",
      "LOAD_TIME                  62988 non-null object\n",
      "FLIGHT_COUNT               62988 non-null int64\n",
      "BP_SUM                     62988 non-null int64\n",
      "EP_SUM_YR_1                62988 non-null int64\n",
      "EP_SUM_YR_2                62988 non-null int64\n",
      "SUM_YR_1                   62437 non-null float64\n",
      "SUM_YR_2                   62850 non-null float64\n",
      "SEG_KM_SUM                 62988 non-null int64\n",
      "WEIGHTED_SEG_KM            62988 non-null float64\n",
      "LAST_FLIGHT_DATE           62988 non-null object\n",
      "AVG_FLIGHT_COUNT           62988 non-null float64\n",
      "AVG_BP_SUM                 62988 non-null float64\n",
      "BEGIN_TO_FIRST             62988 non-null int64\n",
      "LAST_TO_END                62988 non-null int64\n",
      "AVG_INTERVAL               62988 non-null float64\n",
      "MAX_INTERVAL               62988 non-null int64\n",
      "ADD_POINTS_SUM_YR_1        62988 non-null int64\n",
      "ADD_POINTS_SUM_YR_2        62988 non-null int64\n",
      "EXCHANGE_COUNT             62988 non-null int64\n",
      "avg_discount               62988 non-null float64\n",
      "P1Y_Flight_Count           62988 non-null int64\n",
      "L1Y_Flight_Count           62988 non-null int64\n",
      "P1Y_BP_SUM                 62988 non-null int64\n",
      "L1Y_BP_SUM                 62988 non-null int64\n",
      "EP_SUM                     62988 non-null int64\n",
      "ADD_Point_SUM              62988 non-null int64\n",
      "Eli_Add_Point_Sum          62988 non-null int64\n",
      "L1Y_ELi_Add_Points         62988 non-null int64\n",
      "Points_Sum                 62988 non-null int64\n",
      "L1Y_Points_Sum             62988 non-null int64\n",
      "Ration_L1Y_Flight_Count    62988 non-null float64\n",
      "Ration_P1Y_Flight_Count    62988 non-null float64\n",
      "Ration_P1Y_BPS             62988 non-null float64\n",
      "Ration_L1Y_BPS             62988 non-null float64\n",
      "Point_NotFlight            62988 non-null int64\n",
      "dtypes: float64(12), int64(23), object(8)\n",
      "memory usage: 21.1+ MB\n"
     ]
    }
   ],
   "source": [
    "data.info()"
   ]
  },
  {
   "cell_type": "markdown",
   "metadata": {},
   "source": [
    "work_city,work_province,work_country,sun_yr_1,sum_yr_2存在缺失值，其中work_city,work_province,work_country的缺失对建模无影响，故不做处理，sun_yr_1,sum_yr_2的缺失值数量很少，可以将缺失值样本删除。"
   ]
  },
  {
   "cell_type": "code",
   "execution_count": 6,
   "metadata": {},
   "outputs": [
    {
     "data": {
      "text/html": [
       "<div>\n",
       "<style scoped>\n",
       "    .dataframe tbody tr th:only-of-type {\n",
       "        vertical-align: middle;\n",
       "    }\n",
       "\n",
       "    .dataframe tbody tr th {\n",
       "        vertical-align: top;\n",
       "    }\n",
       "\n",
       "    .dataframe thead th {\n",
       "        text-align: right;\n",
       "    }\n",
       "</style>\n",
       "<table border=\"1\" class=\"dataframe\">\n",
       "  <thead>\n",
       "    <tr style=\"text-align: right;\">\n",
       "      <th></th>\n",
       "      <th>count</th>\n",
       "      <th>mean</th>\n",
       "      <th>std</th>\n",
       "      <th>min</th>\n",
       "      <th>25%</th>\n",
       "      <th>50%</th>\n",
       "      <th>75%</th>\n",
       "      <th>max</th>\n",
       "    </tr>\n",
       "  </thead>\n",
       "  <tbody>\n",
       "    <tr>\n",
       "      <th>FFP_TIER</th>\n",
       "      <td>62988.0</td>\n",
       "      <td>4.102162</td>\n",
       "      <td>0.373856</td>\n",
       "      <td>4.00</td>\n",
       "      <td>4.000000</td>\n",
       "      <td>4.000000</td>\n",
       "      <td>4.000000</td>\n",
       "      <td>6.000000</td>\n",
       "    </tr>\n",
       "    <tr>\n",
       "      <th>AGE</th>\n",
       "      <td>62568.0</td>\n",
       "      <td>42.476346</td>\n",
       "      <td>9.885915</td>\n",
       "      <td>6.00</td>\n",
       "      <td>35.000000</td>\n",
       "      <td>41.000000</td>\n",
       "      <td>48.000000</td>\n",
       "      <td>110.000000</td>\n",
       "    </tr>\n",
       "    <tr>\n",
       "      <th>FLIGHT_COUNT</th>\n",
       "      <td>62988.0</td>\n",
       "      <td>11.839414</td>\n",
       "      <td>14.049471</td>\n",
       "      <td>2.00</td>\n",
       "      <td>3.000000</td>\n",
       "      <td>7.000000</td>\n",
       "      <td>15.000000</td>\n",
       "      <td>213.000000</td>\n",
       "    </tr>\n",
       "    <tr>\n",
       "      <th>BP_SUM</th>\n",
       "      <td>62988.0</td>\n",
       "      <td>10925.081254</td>\n",
       "      <td>16339.486151</td>\n",
       "      <td>0.00</td>\n",
       "      <td>2518.000000</td>\n",
       "      <td>5700.000000</td>\n",
       "      <td>12831.000000</td>\n",
       "      <td>505308.000000</td>\n",
       "    </tr>\n",
       "    <tr>\n",
       "      <th>EP_SUM_YR_1</th>\n",
       "      <td>62988.0</td>\n",
       "      <td>0.000000</td>\n",
       "      <td>0.000000</td>\n",
       "      <td>0.00</td>\n",
       "      <td>0.000000</td>\n",
       "      <td>0.000000</td>\n",
       "      <td>0.000000</td>\n",
       "      <td>0.000000</td>\n",
       "    </tr>\n",
       "    <tr>\n",
       "      <th>EP_SUM_YR_2</th>\n",
       "      <td>62988.0</td>\n",
       "      <td>265.689623</td>\n",
       "      <td>1645.702854</td>\n",
       "      <td>0.00</td>\n",
       "      <td>0.000000</td>\n",
       "      <td>0.000000</td>\n",
       "      <td>0.000000</td>\n",
       "      <td>74460.000000</td>\n",
       "    </tr>\n",
       "    <tr>\n",
       "      <th>SUM_YR_1</th>\n",
       "      <td>62437.0</td>\n",
       "      <td>5355.376064</td>\n",
       "      <td>8109.450147</td>\n",
       "      <td>0.00</td>\n",
       "      <td>1003.000000</td>\n",
       "      <td>2800.000000</td>\n",
       "      <td>6574.000000</td>\n",
       "      <td>239560.000000</td>\n",
       "    </tr>\n",
       "    <tr>\n",
       "      <th>SUM_YR_2</th>\n",
       "      <td>62850.0</td>\n",
       "      <td>5604.026014</td>\n",
       "      <td>8703.364247</td>\n",
       "      <td>0.00</td>\n",
       "      <td>780.000000</td>\n",
       "      <td>2773.000000</td>\n",
       "      <td>6845.750000</td>\n",
       "      <td>234188.000000</td>\n",
       "    </tr>\n",
       "    <tr>\n",
       "      <th>SEG_KM_SUM</th>\n",
       "      <td>62988.0</td>\n",
       "      <td>17123.878691</td>\n",
       "      <td>20960.844623</td>\n",
       "      <td>368.00</td>\n",
       "      <td>4747.000000</td>\n",
       "      <td>9994.000000</td>\n",
       "      <td>21271.250000</td>\n",
       "      <td>580717.000000</td>\n",
       "    </tr>\n",
       "    <tr>\n",
       "      <th>WEIGHTED_SEG_KM</th>\n",
       "      <td>62988.0</td>\n",
       "      <td>12777.152439</td>\n",
       "      <td>17578.586695</td>\n",
       "      <td>0.00</td>\n",
       "      <td>3219.045000</td>\n",
       "      <td>6978.255000</td>\n",
       "      <td>15299.632500</td>\n",
       "      <td>558440.140000</td>\n",
       "    </tr>\n",
       "    <tr>\n",
       "      <th>AVG_FLIGHT_COUNT</th>\n",
       "      <td>62988.0</td>\n",
       "      <td>1.542154</td>\n",
       "      <td>1.786996</td>\n",
       "      <td>0.25</td>\n",
       "      <td>0.428571</td>\n",
       "      <td>0.875000</td>\n",
       "      <td>1.875000</td>\n",
       "      <td>26.625000</td>\n",
       "    </tr>\n",
       "    <tr>\n",
       "      <th>AVG_BP_SUM</th>\n",
       "      <td>62988.0</td>\n",
       "      <td>1421.440249</td>\n",
       "      <td>2083.121324</td>\n",
       "      <td>0.00</td>\n",
       "      <td>336.000000</td>\n",
       "      <td>752.375000</td>\n",
       "      <td>1690.270833</td>\n",
       "      <td>63163.500000</td>\n",
       "    </tr>\n",
       "    <tr>\n",
       "      <th>BEGIN_TO_FIRST</th>\n",
       "      <td>62988.0</td>\n",
       "      <td>120.145488</td>\n",
       "      <td>159.572867</td>\n",
       "      <td>0.00</td>\n",
       "      <td>9.000000</td>\n",
       "      <td>50.000000</td>\n",
       "      <td>166.000000</td>\n",
       "      <td>729.000000</td>\n",
       "    </tr>\n",
       "    <tr>\n",
       "      <th>LAST_TO_END</th>\n",
       "      <td>62988.0</td>\n",
       "      <td>176.120102</td>\n",
       "      <td>183.822223</td>\n",
       "      <td>1.00</td>\n",
       "      <td>29.000000</td>\n",
       "      <td>108.000000</td>\n",
       "      <td>268.000000</td>\n",
       "      <td>731.000000</td>\n",
       "    </tr>\n",
       "    <tr>\n",
       "      <th>AVG_INTERVAL</th>\n",
       "      <td>62988.0</td>\n",
       "      <td>67.749788</td>\n",
       "      <td>77.517866</td>\n",
       "      <td>0.00</td>\n",
       "      <td>23.370370</td>\n",
       "      <td>44.666667</td>\n",
       "      <td>82.000000</td>\n",
       "      <td>728.000000</td>\n",
       "    </tr>\n",
       "    <tr>\n",
       "      <th>MAX_INTERVAL</th>\n",
       "      <td>62988.0</td>\n",
       "      <td>166.033895</td>\n",
       "      <td>123.397180</td>\n",
       "      <td>0.00</td>\n",
       "      <td>79.000000</td>\n",
       "      <td>143.000000</td>\n",
       "      <td>228.000000</td>\n",
       "      <td>728.000000</td>\n",
       "    </tr>\n",
       "    <tr>\n",
       "      <th>ADD_POINTS_SUM_YR_1</th>\n",
       "      <td>62988.0</td>\n",
       "      <td>540.316965</td>\n",
       "      <td>3956.083455</td>\n",
       "      <td>0.00</td>\n",
       "      <td>0.000000</td>\n",
       "      <td>0.000000</td>\n",
       "      <td>0.000000</td>\n",
       "      <td>600000.000000</td>\n",
       "    </tr>\n",
       "    <tr>\n",
       "      <th>ADD_POINTS_SUM_YR_2</th>\n",
       "      <td>62988.0</td>\n",
       "      <td>814.689258</td>\n",
       "      <td>5121.796929</td>\n",
       "      <td>0.00</td>\n",
       "      <td>0.000000</td>\n",
       "      <td>0.000000</td>\n",
       "      <td>0.000000</td>\n",
       "      <td>728282.000000</td>\n",
       "    </tr>\n",
       "    <tr>\n",
       "      <th>EXCHANGE_COUNT</th>\n",
       "      <td>62988.0</td>\n",
       "      <td>0.319775</td>\n",
       "      <td>1.136004</td>\n",
       "      <td>0.00</td>\n",
       "      <td>0.000000</td>\n",
       "      <td>0.000000</td>\n",
       "      <td>0.000000</td>\n",
       "      <td>46.000000</td>\n",
       "    </tr>\n",
       "    <tr>\n",
       "      <th>avg_discount</th>\n",
       "      <td>62988.0</td>\n",
       "      <td>0.721558</td>\n",
       "      <td>0.185427</td>\n",
       "      <td>0.00</td>\n",
       "      <td>0.611997</td>\n",
       "      <td>0.711856</td>\n",
       "      <td>0.809476</td>\n",
       "      <td>1.500000</td>\n",
       "    </tr>\n",
       "    <tr>\n",
       "      <th>P1Y_Flight_Count</th>\n",
       "      <td>62988.0</td>\n",
       "      <td>5.766257</td>\n",
       "      <td>7.210922</td>\n",
       "      <td>0.00</td>\n",
       "      <td>2.000000</td>\n",
       "      <td>3.000000</td>\n",
       "      <td>7.000000</td>\n",
       "      <td>118.000000</td>\n",
       "    </tr>\n",
       "    <tr>\n",
       "      <th>L1Y_Flight_Count</th>\n",
       "      <td>62988.0</td>\n",
       "      <td>6.073157</td>\n",
       "      <td>8.175127</td>\n",
       "      <td>0.00</td>\n",
       "      <td>1.000000</td>\n",
       "      <td>3.000000</td>\n",
       "      <td>8.000000</td>\n",
       "      <td>111.000000</td>\n",
       "    </tr>\n",
       "    <tr>\n",
       "      <th>P1Y_BP_SUM</th>\n",
       "      <td>62988.0</td>\n",
       "      <td>5366.720550</td>\n",
       "      <td>8537.773021</td>\n",
       "      <td>0.00</td>\n",
       "      <td>946.000000</td>\n",
       "      <td>2692.000000</td>\n",
       "      <td>6485.250000</td>\n",
       "      <td>246197.000000</td>\n",
       "    </tr>\n",
       "    <tr>\n",
       "      <th>L1Y_BP_SUM</th>\n",
       "      <td>62988.0</td>\n",
       "      <td>5558.360704</td>\n",
       "      <td>9351.956952</td>\n",
       "      <td>0.00</td>\n",
       "      <td>545.000000</td>\n",
       "      <td>2547.000000</td>\n",
       "      <td>6619.250000</td>\n",
       "      <td>259111.000000</td>\n",
       "    </tr>\n",
       "    <tr>\n",
       "      <th>EP_SUM</th>\n",
       "      <td>62988.0</td>\n",
       "      <td>265.689623</td>\n",
       "      <td>1645.702854</td>\n",
       "      <td>0.00</td>\n",
       "      <td>0.000000</td>\n",
       "      <td>0.000000</td>\n",
       "      <td>0.000000</td>\n",
       "      <td>74460.000000</td>\n",
       "    </tr>\n",
       "    <tr>\n",
       "      <th>ADD_Point_SUM</th>\n",
       "      <td>62988.0</td>\n",
       "      <td>1355.006223</td>\n",
       "      <td>7868.477000</td>\n",
       "      <td>0.00</td>\n",
       "      <td>0.000000</td>\n",
       "      <td>0.000000</td>\n",
       "      <td>0.000000</td>\n",
       "      <td>984938.000000</td>\n",
       "    </tr>\n",
       "    <tr>\n",
       "      <th>Eli_Add_Point_Sum</th>\n",
       "      <td>62988.0</td>\n",
       "      <td>1620.695847</td>\n",
       "      <td>8294.398955</td>\n",
       "      <td>0.00</td>\n",
       "      <td>0.000000</td>\n",
       "      <td>0.000000</td>\n",
       "      <td>345.000000</td>\n",
       "      <td>984938.000000</td>\n",
       "    </tr>\n",
       "    <tr>\n",
       "      <th>L1Y_ELi_Add_Points</th>\n",
       "      <td>62988.0</td>\n",
       "      <td>1080.378882</td>\n",
       "      <td>5639.857254</td>\n",
       "      <td>0.00</td>\n",
       "      <td>0.000000</td>\n",
       "      <td>0.000000</td>\n",
       "      <td>0.000000</td>\n",
       "      <td>728282.000000</td>\n",
       "    </tr>\n",
       "    <tr>\n",
       "      <th>Points_Sum</th>\n",
       "      <td>62988.0</td>\n",
       "      <td>12545.777100</td>\n",
       "      <td>20507.816700</td>\n",
       "      <td>0.00</td>\n",
       "      <td>2775.000000</td>\n",
       "      <td>6328.500000</td>\n",
       "      <td>14302.500000</td>\n",
       "      <td>985572.000000</td>\n",
       "    </tr>\n",
       "    <tr>\n",
       "      <th>L1Y_Points_Sum</th>\n",
       "      <td>62988.0</td>\n",
       "      <td>6638.739585</td>\n",
       "      <td>12601.819863</td>\n",
       "      <td>0.00</td>\n",
       "      <td>700.000000</td>\n",
       "      <td>2860.500000</td>\n",
       "      <td>7500.000000</td>\n",
       "      <td>728282.000000</td>\n",
       "    </tr>\n",
       "    <tr>\n",
       "      <th>Ration_L1Y_Flight_Count</th>\n",
       "      <td>62988.0</td>\n",
       "      <td>0.486419</td>\n",
       "      <td>0.319105</td>\n",
       "      <td>0.00</td>\n",
       "      <td>0.250000</td>\n",
       "      <td>0.500000</td>\n",
       "      <td>0.711111</td>\n",
       "      <td>1.000000</td>\n",
       "    </tr>\n",
       "    <tr>\n",
       "      <th>Ration_P1Y_Flight_Count</th>\n",
       "      <td>62988.0</td>\n",
       "      <td>0.513581</td>\n",
       "      <td>0.319105</td>\n",
       "      <td>0.00</td>\n",
       "      <td>0.288889</td>\n",
       "      <td>0.500000</td>\n",
       "      <td>0.750000</td>\n",
       "      <td>1.000000</td>\n",
       "    </tr>\n",
       "    <tr>\n",
       "      <th>Ration_P1Y_BPS</th>\n",
       "      <td>62988.0</td>\n",
       "      <td>0.522293</td>\n",
       "      <td>0.339632</td>\n",
       "      <td>0.00</td>\n",
       "      <td>0.258150</td>\n",
       "      <td>0.514252</td>\n",
       "      <td>0.815091</td>\n",
       "      <td>0.999989</td>\n",
       "    </tr>\n",
       "    <tr>\n",
       "      <th>Ration_L1Y_BPS</th>\n",
       "      <td>62988.0</td>\n",
       "      <td>0.468422</td>\n",
       "      <td>0.338956</td>\n",
       "      <td>0.00</td>\n",
       "      <td>0.167954</td>\n",
       "      <td>0.476747</td>\n",
       "      <td>0.728375</td>\n",
       "      <td>0.999993</td>\n",
       "    </tr>\n",
       "    <tr>\n",
       "      <th>Point_NotFlight</th>\n",
       "      <td>62988.0</td>\n",
       "      <td>2.728155</td>\n",
       "      <td>7.364164</td>\n",
       "      <td>0.00</td>\n",
       "      <td>0.000000</td>\n",
       "      <td>0.000000</td>\n",
       "      <td>1.000000</td>\n",
       "      <td>140.000000</td>\n",
       "    </tr>\n",
       "  </tbody>\n",
       "</table>\n",
       "</div>"
      ],
      "text/plain": [
       "                           count          mean           std     min  \\\n",
       "FFP_TIER                 62988.0      4.102162      0.373856    4.00   \n",
       "AGE                      62568.0     42.476346      9.885915    6.00   \n",
       "FLIGHT_COUNT             62988.0     11.839414     14.049471    2.00   \n",
       "BP_SUM                   62988.0  10925.081254  16339.486151    0.00   \n",
       "EP_SUM_YR_1              62988.0      0.000000      0.000000    0.00   \n",
       "EP_SUM_YR_2              62988.0    265.689623   1645.702854    0.00   \n",
       "SUM_YR_1                 62437.0   5355.376064   8109.450147    0.00   \n",
       "SUM_YR_2                 62850.0   5604.026014   8703.364247    0.00   \n",
       "SEG_KM_SUM               62988.0  17123.878691  20960.844623  368.00   \n",
       "WEIGHTED_SEG_KM          62988.0  12777.152439  17578.586695    0.00   \n",
       "AVG_FLIGHT_COUNT         62988.0      1.542154      1.786996    0.25   \n",
       "AVG_BP_SUM               62988.0   1421.440249   2083.121324    0.00   \n",
       "BEGIN_TO_FIRST           62988.0    120.145488    159.572867    0.00   \n",
       "LAST_TO_END              62988.0    176.120102    183.822223    1.00   \n",
       "AVG_INTERVAL             62988.0     67.749788     77.517866    0.00   \n",
       "MAX_INTERVAL             62988.0    166.033895    123.397180    0.00   \n",
       "ADD_POINTS_SUM_YR_1      62988.0    540.316965   3956.083455    0.00   \n",
       "ADD_POINTS_SUM_YR_2      62988.0    814.689258   5121.796929    0.00   \n",
       "EXCHANGE_COUNT           62988.0      0.319775      1.136004    0.00   \n",
       "avg_discount             62988.0      0.721558      0.185427    0.00   \n",
       "P1Y_Flight_Count         62988.0      5.766257      7.210922    0.00   \n",
       "L1Y_Flight_Count         62988.0      6.073157      8.175127    0.00   \n",
       "P1Y_BP_SUM               62988.0   5366.720550   8537.773021    0.00   \n",
       "L1Y_BP_SUM               62988.0   5558.360704   9351.956952    0.00   \n",
       "EP_SUM                   62988.0    265.689623   1645.702854    0.00   \n",
       "ADD_Point_SUM            62988.0   1355.006223   7868.477000    0.00   \n",
       "Eli_Add_Point_Sum        62988.0   1620.695847   8294.398955    0.00   \n",
       "L1Y_ELi_Add_Points       62988.0   1080.378882   5639.857254    0.00   \n",
       "Points_Sum               62988.0  12545.777100  20507.816700    0.00   \n",
       "L1Y_Points_Sum           62988.0   6638.739585  12601.819863    0.00   \n",
       "Ration_L1Y_Flight_Count  62988.0      0.486419      0.319105    0.00   \n",
       "Ration_P1Y_Flight_Count  62988.0      0.513581      0.319105    0.00   \n",
       "Ration_P1Y_BPS           62988.0      0.522293      0.339632    0.00   \n",
       "Ration_L1Y_BPS           62988.0      0.468422      0.338956    0.00   \n",
       "Point_NotFlight          62988.0      2.728155      7.364164    0.00   \n",
       "\n",
       "                                 25%          50%           75%            max  \n",
       "FFP_TIER                    4.000000     4.000000      4.000000       6.000000  \n",
       "AGE                        35.000000    41.000000     48.000000     110.000000  \n",
       "FLIGHT_COUNT                3.000000     7.000000     15.000000     213.000000  \n",
       "BP_SUM                   2518.000000  5700.000000  12831.000000  505308.000000  \n",
       "EP_SUM_YR_1                 0.000000     0.000000      0.000000       0.000000  \n",
       "EP_SUM_YR_2                 0.000000     0.000000      0.000000   74460.000000  \n",
       "SUM_YR_1                 1003.000000  2800.000000   6574.000000  239560.000000  \n",
       "SUM_YR_2                  780.000000  2773.000000   6845.750000  234188.000000  \n",
       "SEG_KM_SUM               4747.000000  9994.000000  21271.250000  580717.000000  \n",
       "WEIGHTED_SEG_KM          3219.045000  6978.255000  15299.632500  558440.140000  \n",
       "AVG_FLIGHT_COUNT            0.428571     0.875000      1.875000      26.625000  \n",
       "AVG_BP_SUM                336.000000   752.375000   1690.270833   63163.500000  \n",
       "BEGIN_TO_FIRST              9.000000    50.000000    166.000000     729.000000  \n",
       "LAST_TO_END                29.000000   108.000000    268.000000     731.000000  \n",
       "AVG_INTERVAL               23.370370    44.666667     82.000000     728.000000  \n",
       "MAX_INTERVAL               79.000000   143.000000    228.000000     728.000000  \n",
       "ADD_POINTS_SUM_YR_1         0.000000     0.000000      0.000000  600000.000000  \n",
       "ADD_POINTS_SUM_YR_2         0.000000     0.000000      0.000000  728282.000000  \n",
       "EXCHANGE_COUNT              0.000000     0.000000      0.000000      46.000000  \n",
       "avg_discount                0.611997     0.711856      0.809476       1.500000  \n",
       "P1Y_Flight_Count            2.000000     3.000000      7.000000     118.000000  \n",
       "L1Y_Flight_Count            1.000000     3.000000      8.000000     111.000000  \n",
       "P1Y_BP_SUM                946.000000  2692.000000   6485.250000  246197.000000  \n",
       "L1Y_BP_SUM                545.000000  2547.000000   6619.250000  259111.000000  \n",
       "EP_SUM                      0.000000     0.000000      0.000000   74460.000000  \n",
       "ADD_Point_SUM               0.000000     0.000000      0.000000  984938.000000  \n",
       "Eli_Add_Point_Sum           0.000000     0.000000    345.000000  984938.000000  \n",
       "L1Y_ELi_Add_Points          0.000000     0.000000      0.000000  728282.000000  \n",
       "Points_Sum               2775.000000  6328.500000  14302.500000  985572.000000  \n",
       "L1Y_Points_Sum            700.000000  2860.500000   7500.000000  728282.000000  \n",
       "Ration_L1Y_Flight_Count     0.250000     0.500000      0.711111       1.000000  \n",
       "Ration_P1Y_Flight_Count     0.288889     0.500000      0.750000       1.000000  \n",
       "Ration_P1Y_BPS              0.258150     0.514252      0.815091       0.999989  \n",
       "Ration_L1Y_BPS              0.167954     0.476747      0.728375       0.999993  \n",
       "Point_NotFlight             0.000000     0.000000      1.000000     140.000000  "
      ]
     },
     "execution_count": 6,
     "metadata": {},
     "output_type": "execute_result"
    }
   ],
   "source": [
    "data.describe().T"
   ]
  },
  {
   "cell_type": "code",
   "execution_count": 19,
   "metadata": {},
   "outputs": [
    {
     "data": {
      "text/plain": [
       "8"
      ]
     },
     "execution_count": 19,
     "metadata": {},
     "output_type": "execute_result"
    }
   ],
   "source": [
    "(data['avg_discount']==0).sum()"
   ]
  },
  {
   "cell_type": "markdown",
   "metadata": {},
   "source": [
    "平均折扣率为0的样本共8个，可以直接删除。"
   ]
  },
  {
   "cell_type": "code",
   "execution_count": 29,
   "metadata": {},
   "outputs": [],
   "source": [
    "data.dropna(axis=0,subset=['SUM_YR_1','SUM_YR_2'],inplace=True)  #删除第一年总票价和第二年总票价为空值的样本"
   ]
  },
  {
   "cell_type": "code",
   "execution_count": 30,
   "metadata": {},
   "outputs": [
    {
     "name": "stdout",
     "output_type": "stream",
     "text": [
      "<class 'pandas.core.frame.DataFrame'>\n",
      "Int64Index: 62299 entries, 54993 to 61027\n",
      "Data columns (total 43 columns):\n",
      "FFP_DATE                   62299 non-null object\n",
      "FIRST_FLIGHT_DATE          62299 non-null object\n",
      "GENDER                     62296 non-null object\n",
      "FFP_TIER                   62299 non-null int64\n",
      "WORK_CITY                  60043 non-null object\n",
      "WORK_PROVINCE              59075 non-null object\n",
      "WORK_COUNTRY               62273 non-null object\n",
      "AGE                        61884 non-null float64\n",
      "LOAD_TIME                  62299 non-null object\n",
      "FLIGHT_COUNT               62299 non-null int64\n",
      "BP_SUM                     62299 non-null int64\n",
      "EP_SUM_YR_1                62299 non-null int64\n",
      "EP_SUM_YR_2                62299 non-null int64\n",
      "SUM_YR_1                   62299 non-null float64\n",
      "SUM_YR_2                   62299 non-null float64\n",
      "SEG_KM_SUM                 62299 non-null int64\n",
      "WEIGHTED_SEG_KM            62299 non-null float64\n",
      "LAST_FLIGHT_DATE           62299 non-null object\n",
      "AVG_FLIGHT_COUNT           62299 non-null float64\n",
      "AVG_BP_SUM                 62299 non-null float64\n",
      "BEGIN_TO_FIRST             62299 non-null int64\n",
      "LAST_TO_END                62299 non-null int64\n",
      "AVG_INTERVAL               62299 non-null float64\n",
      "MAX_INTERVAL               62299 non-null int64\n",
      "ADD_POINTS_SUM_YR_1        62299 non-null int64\n",
      "ADD_POINTS_SUM_YR_2        62299 non-null int64\n",
      "EXCHANGE_COUNT             62299 non-null int64\n",
      "avg_discount               62299 non-null float64\n",
      "P1Y_Flight_Count           62299 non-null int64\n",
      "L1Y_Flight_Count           62299 non-null int64\n",
      "P1Y_BP_SUM                 62299 non-null int64\n",
      "L1Y_BP_SUM                 62299 non-null int64\n",
      "EP_SUM                     62299 non-null int64\n",
      "ADD_Point_SUM              62299 non-null int64\n",
      "Eli_Add_Point_Sum          62299 non-null int64\n",
      "L1Y_ELi_Add_Points         62299 non-null int64\n",
      "Points_Sum                 62299 non-null int64\n",
      "L1Y_Points_Sum             62299 non-null int64\n",
      "Ration_L1Y_Flight_Count    62299 non-null float64\n",
      "Ration_P1Y_Flight_Count    62299 non-null float64\n",
      "Ration_P1Y_BPS             62299 non-null float64\n",
      "Ration_L1Y_BPS             62299 non-null float64\n",
      "Point_NotFlight            62299 non-null int64\n",
      "dtypes: float64(12), int64(23), object(8)\n",
      "memory usage: 20.9+ MB\n"
     ]
    }
   ],
   "source": [
    "data.info()"
   ]
  },
  {
   "cell_type": "code",
   "execution_count": 35,
   "metadata": {},
   "outputs": [],
   "source": [
    "data=data.loc[data['avg_discount']!=0,:]   #删除平均折扣为0的样本"
   ]
  },
  {
   "cell_type": "code",
   "execution_count": 36,
   "metadata": {},
   "outputs": [
    {
     "name": "stdout",
     "output_type": "stream",
     "text": [
      "<class 'pandas.core.frame.DataFrame'>\n",
      "Int64Index: 62292 entries, 54993 to 22761\n",
      "Data columns (total 43 columns):\n",
      "FFP_DATE                   62292 non-null object\n",
      "FIRST_FLIGHT_DATE          62292 non-null object\n",
      "GENDER                     62289 non-null object\n",
      "FFP_TIER                   62292 non-null int64\n",
      "WORK_CITY                  60036 non-null object\n",
      "WORK_PROVINCE              59068 non-null object\n",
      "WORK_COUNTRY               62266 non-null object\n",
      "AGE                        61877 non-null float64\n",
      "LOAD_TIME                  62292 non-null object\n",
      "FLIGHT_COUNT               62292 non-null int64\n",
      "BP_SUM                     62292 non-null int64\n",
      "EP_SUM_YR_1                62292 non-null int64\n",
      "EP_SUM_YR_2                62292 non-null int64\n",
      "SUM_YR_1                   62292 non-null float64\n",
      "SUM_YR_2                   62292 non-null float64\n",
      "SEG_KM_SUM                 62292 non-null int64\n",
      "WEIGHTED_SEG_KM            62292 non-null float64\n",
      "LAST_FLIGHT_DATE           62292 non-null object\n",
      "AVG_FLIGHT_COUNT           62292 non-null float64\n",
      "AVG_BP_SUM                 62292 non-null float64\n",
      "BEGIN_TO_FIRST             62292 non-null int64\n",
      "LAST_TO_END                62292 non-null int64\n",
      "AVG_INTERVAL               62292 non-null float64\n",
      "MAX_INTERVAL               62292 non-null int64\n",
      "ADD_POINTS_SUM_YR_1        62292 non-null int64\n",
      "ADD_POINTS_SUM_YR_2        62292 non-null int64\n",
      "EXCHANGE_COUNT             62292 non-null int64\n",
      "avg_discount               62292 non-null float64\n",
      "P1Y_Flight_Count           62292 non-null int64\n",
      "L1Y_Flight_Count           62292 non-null int64\n",
      "P1Y_BP_SUM                 62292 non-null int64\n",
      "L1Y_BP_SUM                 62292 non-null int64\n",
      "EP_SUM                     62292 non-null int64\n",
      "ADD_Point_SUM              62292 non-null int64\n",
      "Eli_Add_Point_Sum          62292 non-null int64\n",
      "L1Y_ELi_Add_Points         62292 non-null int64\n",
      "Points_Sum                 62292 non-null int64\n",
      "L1Y_Points_Sum             62292 non-null int64\n",
      "Ration_L1Y_Flight_Count    62292 non-null float64\n",
      "Ration_P1Y_Flight_Count    62292 non-null float64\n",
      "Ration_P1Y_BPS             62292 non-null float64\n",
      "Ration_L1Y_BPS             62292 non-null float64\n",
      "Point_NotFlight            62292 non-null int64\n",
      "dtypes: float64(12), int64(23), object(8)\n",
      "memory usage: 20.9+ MB\n"
     ]
    }
   ],
   "source": [
    "data.info()"
   ]
  },
  {
   "cell_type": "markdown",
   "metadata": {},
   "source": [
    "### 提取与LRFMC模型有关联的属性"
   ]
  },
  {
   "cell_type": "code",
   "execution_count": 40,
   "metadata": {},
   "outputs": [
    {
     "data": {
      "text/plain": [
       "(62292, 43)"
      ]
     },
     "execution_count": 40,
     "metadata": {},
     "output_type": "execute_result"
    }
   ],
   "source": [
    "data.shape"
   ]
  },
  {
   "cell_type": "code",
   "execution_count": 41,
   "metadata": {},
   "outputs": [],
   "source": [
    "data.index=range(data.shape[0])"
   ]
  },
  {
   "cell_type": "code",
   "execution_count": 43,
   "metadata": {},
   "outputs": [],
   "source": [
    "new_data=data.loc[:,['LOAD_TIME','FFP_DATE','LAST_TO_END','FLIGHT_COUNT','SEG_KM_SUM','avg_discount']]"
   ]
  },
  {
   "cell_type": "code",
   "execution_count": 44,
   "metadata": {},
   "outputs": [
    {
     "data": {
      "text/html": [
       "<div>\n",
       "<style scoped>\n",
       "    .dataframe tbody tr th:only-of-type {\n",
       "        vertical-align: middle;\n",
       "    }\n",
       "\n",
       "    .dataframe tbody tr th {\n",
       "        vertical-align: top;\n",
       "    }\n",
       "\n",
       "    .dataframe thead th {\n",
       "        text-align: right;\n",
       "    }\n",
       "</style>\n",
       "<table border=\"1\" class=\"dataframe\">\n",
       "  <thead>\n",
       "    <tr style=\"text-align: right;\">\n",
       "      <th></th>\n",
       "      <th>LOAD_TIME</th>\n",
       "      <th>FFP_DATE</th>\n",
       "      <th>LAST_TO_END</th>\n",
       "      <th>FLIGHT_COUNT</th>\n",
       "      <th>SEG_KM_SUM</th>\n",
       "      <th>avg_discount</th>\n",
       "    </tr>\n",
       "  </thead>\n",
       "  <tbody>\n",
       "    <tr>\n",
       "      <th>0</th>\n",
       "      <td>2014/03/31</td>\n",
       "      <td>2006/11/02</td>\n",
       "      <td>1</td>\n",
       "      <td>210</td>\n",
       "      <td>580717</td>\n",
       "      <td>0.961639</td>\n",
       "    </tr>\n",
       "    <tr>\n",
       "      <th>1</th>\n",
       "      <td>2014/03/31</td>\n",
       "      <td>2007/02/19</td>\n",
       "      <td>7</td>\n",
       "      <td>140</td>\n",
       "      <td>293678</td>\n",
       "      <td>1.252314</td>\n",
       "    </tr>\n",
       "    <tr>\n",
       "      <th>2</th>\n",
       "      <td>2014/03/31</td>\n",
       "      <td>2007/02/01</td>\n",
       "      <td>11</td>\n",
       "      <td>135</td>\n",
       "      <td>283712</td>\n",
       "      <td>1.254676</td>\n",
       "    </tr>\n",
       "    <tr>\n",
       "      <th>3</th>\n",
       "      <td>2014/03/31</td>\n",
       "      <td>2008/08/22</td>\n",
       "      <td>97</td>\n",
       "      <td>23</td>\n",
       "      <td>281336</td>\n",
       "      <td>1.090870</td>\n",
       "    </tr>\n",
       "    <tr>\n",
       "      <th>4</th>\n",
       "      <td>2014/03/31</td>\n",
       "      <td>2009/04/10</td>\n",
       "      <td>5</td>\n",
       "      <td>152</td>\n",
       "      <td>309928</td>\n",
       "      <td>0.970658</td>\n",
       "    </tr>\n",
       "  </tbody>\n",
       "</table>\n",
       "</div>"
      ],
      "text/plain": [
       "    LOAD_TIME    FFP_DATE  LAST_TO_END  FLIGHT_COUNT  SEG_KM_SUM  avg_discount\n",
       "0  2014/03/31  2006/11/02            1           210      580717      0.961639\n",
       "1  2014/03/31  2007/02/19            7           140      293678      1.252314\n",
       "2  2014/03/31  2007/02/01           11           135      283712      1.254676\n",
       "3  2014/03/31  2008/08/22           97            23      281336      1.090870\n",
       "4  2014/03/31  2009/04/10            5           152      309928      0.970658"
      ]
     },
     "execution_count": 44,
     "metadata": {},
     "output_type": "execute_result"
    }
   ],
   "source": [
    "new_data.head()"
   ]
  },
  {
   "cell_type": "code",
   "execution_count": 51,
   "metadata": {},
   "outputs": [
    {
     "data": {
      "text/plain": [
       "(62292, 6)"
      ]
     },
     "execution_count": 51,
     "metadata": {},
     "output_type": "execute_result"
    }
   ],
   "source": [
    "new_data.shape"
   ]
  },
  {
   "cell_type": "code",
   "execution_count": 56,
   "metadata": {},
   "outputs": [
    {
     "data": {
      "text/plain": [
       "0"
      ]
     },
     "execution_count": 56,
     "metadata": {},
     "output_type": "execute_result"
    }
   ],
   "source": [
    "(new_data['FFP_DATE']==0).sum()"
   ]
  },
  {
   "cell_type": "markdown",
   "metadata": {},
   "source": [
    "### 数据变化及标准化"
   ]
  },
  {
   "cell_type": "code",
   "execution_count": 120,
   "metadata": {},
   "outputs": [],
   "source": [
    "import datetime\n",
    "L_y=new_data['LOAD_TIME'].apply(lambda x:datetime.datetime.strptime(x,'%Y/%m/%d').year)\n",
    "L_m=new_data['LOAD_TIME'].apply(lambda x:datetime.datetime.strptime(x,'%Y/%m/%d').month)\n",
    "F_y=new_data['FFP_DATE'].apply(lambda x:datetime.datetime.strptime(x,'%Y/%m/%d').year)\n",
    "F_m=new_data['FFP_DATE'].apply(lambda x:datetime.datetime.strptime(x,'%Y/%m/%d').month)"
   ]
  },
  {
   "cell_type": "code",
   "execution_count": 122,
   "metadata": {},
   "outputs": [],
   "source": [
    "new_data['L']=(L_y-F_y)*12+(L_m-F_m)"
   ]
  },
  {
   "cell_type": "code",
   "execution_count": 123,
   "metadata": {},
   "outputs": [
    {
     "data": {
      "text/html": [
       "<div>\n",
       "<style scoped>\n",
       "    .dataframe tbody tr th:only-of-type {\n",
       "        vertical-align: middle;\n",
       "    }\n",
       "\n",
       "    .dataframe tbody tr th {\n",
       "        vertical-align: top;\n",
       "    }\n",
       "\n",
       "    .dataframe thead th {\n",
       "        text-align: right;\n",
       "    }\n",
       "</style>\n",
       "<table border=\"1\" class=\"dataframe\">\n",
       "  <thead>\n",
       "    <tr style=\"text-align: right;\">\n",
       "      <th></th>\n",
       "      <th>LOAD_TIME</th>\n",
       "      <th>FFP_DATE</th>\n",
       "      <th>LAST_TO_END</th>\n",
       "      <th>FLIGHT_COUNT</th>\n",
       "      <th>SEG_KM_SUM</th>\n",
       "      <th>avg_discount</th>\n",
       "      <th>L</th>\n",
       "    </tr>\n",
       "  </thead>\n",
       "  <tbody>\n",
       "    <tr>\n",
       "      <th>0</th>\n",
       "      <td>2014/03/31</td>\n",
       "      <td>2006/11/02</td>\n",
       "      <td>1</td>\n",
       "      <td>210</td>\n",
       "      <td>580717</td>\n",
       "      <td>0.961639</td>\n",
       "      <td>88</td>\n",
       "    </tr>\n",
       "    <tr>\n",
       "      <th>1</th>\n",
       "      <td>2014/03/31</td>\n",
       "      <td>2007/02/19</td>\n",
       "      <td>7</td>\n",
       "      <td>140</td>\n",
       "      <td>293678</td>\n",
       "      <td>1.252314</td>\n",
       "      <td>85</td>\n",
       "    </tr>\n",
       "    <tr>\n",
       "      <th>2</th>\n",
       "      <td>2014/03/31</td>\n",
       "      <td>2007/02/01</td>\n",
       "      <td>11</td>\n",
       "      <td>135</td>\n",
       "      <td>283712</td>\n",
       "      <td>1.254676</td>\n",
       "      <td>85</td>\n",
       "    </tr>\n",
       "    <tr>\n",
       "      <th>3</th>\n",
       "      <td>2014/03/31</td>\n",
       "      <td>2008/08/22</td>\n",
       "      <td>97</td>\n",
       "      <td>23</td>\n",
       "      <td>281336</td>\n",
       "      <td>1.090870</td>\n",
       "      <td>67</td>\n",
       "    </tr>\n",
       "    <tr>\n",
       "      <th>4</th>\n",
       "      <td>2014/03/31</td>\n",
       "      <td>2009/04/10</td>\n",
       "      <td>5</td>\n",
       "      <td>152</td>\n",
       "      <td>309928</td>\n",
       "      <td>0.970658</td>\n",
       "      <td>59</td>\n",
       "    </tr>\n",
       "  </tbody>\n",
       "</table>\n",
       "</div>"
      ],
      "text/plain": [
       "    LOAD_TIME    FFP_DATE  LAST_TO_END  FLIGHT_COUNT  SEG_KM_SUM  \\\n",
       "0  2014/03/31  2006/11/02            1           210      580717   \n",
       "1  2014/03/31  2007/02/19            7           140      293678   \n",
       "2  2014/03/31  2007/02/01           11           135      283712   \n",
       "3  2014/03/31  2008/08/22           97            23      281336   \n",
       "4  2014/03/31  2009/04/10            5           152      309928   \n",
       "\n",
       "   avg_discount   L  \n",
       "0      0.961639  88  \n",
       "1      1.252314  85  \n",
       "2      1.254676  85  \n",
       "3      1.090870  67  \n",
       "4      0.970658  59  "
      ]
     },
     "execution_count": 123,
     "metadata": {},
     "output_type": "execute_result"
    }
   ],
   "source": [
    "new_data.head()"
   ]
  },
  {
   "cell_type": "code",
   "execution_count": 125,
   "metadata": {},
   "outputs": [],
   "source": [
    "new_data.drop(['LOAD_TIME','FFP_DATE'],axis=1,inplace=True)"
   ]
  },
  {
   "cell_type": "code",
   "execution_count": 126,
   "metadata": {},
   "outputs": [
    {
     "data": {
      "text/plain": [
       "Index(['LAST_TO_END', 'FLIGHT_COUNT', 'SEG_KM_SUM', 'avg_discount', 'L'], dtype='object')"
      ]
     },
     "execution_count": 126,
     "metadata": {},
     "output_type": "execute_result"
    }
   ],
   "source": [
    "new_data.columns"
   ]
  },
  {
   "cell_type": "code",
   "execution_count": 127,
   "metadata": {},
   "outputs": [],
   "source": [
    "new_data.columns=['R','F','M','C','L']"
   ]
  },
  {
   "cell_type": "code",
   "execution_count": 128,
   "metadata": {},
   "outputs": [
    {
     "data": {
      "text/html": [
       "<div>\n",
       "<style scoped>\n",
       "    .dataframe tbody tr th:only-of-type {\n",
       "        vertical-align: middle;\n",
       "    }\n",
       "\n",
       "    .dataframe tbody tr th {\n",
       "        vertical-align: top;\n",
       "    }\n",
       "\n",
       "    .dataframe thead th {\n",
       "        text-align: right;\n",
       "    }\n",
       "</style>\n",
       "<table border=\"1\" class=\"dataframe\">\n",
       "  <thead>\n",
       "    <tr style=\"text-align: right;\">\n",
       "      <th></th>\n",
       "      <th>R</th>\n",
       "      <th>F</th>\n",
       "      <th>M</th>\n",
       "      <th>C</th>\n",
       "      <th>L</th>\n",
       "    </tr>\n",
       "  </thead>\n",
       "  <tbody>\n",
       "    <tr>\n",
       "      <th>0</th>\n",
       "      <td>1</td>\n",
       "      <td>210</td>\n",
       "      <td>580717</td>\n",
       "      <td>0.961639</td>\n",
       "      <td>88</td>\n",
       "    </tr>\n",
       "    <tr>\n",
       "      <th>1</th>\n",
       "      <td>7</td>\n",
       "      <td>140</td>\n",
       "      <td>293678</td>\n",
       "      <td>1.252314</td>\n",
       "      <td>85</td>\n",
       "    </tr>\n",
       "    <tr>\n",
       "      <th>2</th>\n",
       "      <td>11</td>\n",
       "      <td>135</td>\n",
       "      <td>283712</td>\n",
       "      <td>1.254676</td>\n",
       "      <td>85</td>\n",
       "    </tr>\n",
       "    <tr>\n",
       "      <th>3</th>\n",
       "      <td>97</td>\n",
       "      <td>23</td>\n",
       "      <td>281336</td>\n",
       "      <td>1.090870</td>\n",
       "      <td>67</td>\n",
       "    </tr>\n",
       "    <tr>\n",
       "      <th>4</th>\n",
       "      <td>5</td>\n",
       "      <td>152</td>\n",
       "      <td>309928</td>\n",
       "      <td>0.970658</td>\n",
       "      <td>59</td>\n",
       "    </tr>\n",
       "  </tbody>\n",
       "</table>\n",
       "</div>"
      ],
      "text/plain": [
       "    R    F       M         C   L\n",
       "0   1  210  580717  0.961639  88\n",
       "1   7  140  293678  1.252314  85\n",
       "2  11  135  283712  1.254676  85\n",
       "3  97   23  281336  1.090870  67\n",
       "4   5  152  309928  0.970658  59"
      ]
     },
     "execution_count": 128,
     "metadata": {},
     "output_type": "execute_result"
    }
   ],
   "source": [
    "new_data.head()"
   ]
  },
  {
   "cell_type": "code",
   "execution_count": 131,
   "metadata": {},
   "outputs": [
    {
     "name": "stdout",
     "output_type": "stream",
     "text": [
      "<class 'pandas.core.frame.DataFrame'>\n",
      "RangeIndex: 62292 entries, 0 to 62291\n",
      "Data columns (total 5 columns):\n",
      "R    62292 non-null int64\n",
      "F    62292 non-null int64\n",
      "M    62292 non-null int64\n",
      "C    62292 non-null float64\n",
      "L    62292 non-null int64\n",
      "dtypes: float64(1), int64(4)\n",
      "memory usage: 2.4 MB\n"
     ]
    }
   ],
   "source": [
    "new_data.info()"
   ]
  },
  {
   "cell_type": "markdown",
   "metadata": {},
   "source": [
    "#### 标准化"
   ]
  },
  {
   "cell_type": "code",
   "execution_count": 130,
   "metadata": {},
   "outputs": [
    {
     "name": "stderr",
     "output_type": "stream",
     "text": [
      "C:\\Users\\zhuxi\\Anaconda3\\lib\\site-packages\\sklearn\\preprocessing\\data.py:645: DataConversionWarning: Data with input dtype int64, float64 were all converted to float64 by StandardScaler.\n",
      "  return self.partial_fit(X, y)\n",
      "C:\\Users\\zhuxi\\Anaconda3\\lib\\site-packages\\sklearn\\base.py:464: DataConversionWarning: Data with input dtype int64, float64 were all converted to float64 by StandardScaler.\n",
      "  return self.fit(X, **fit_params).transform(X)\n"
     ]
    }
   ],
   "source": [
    "from sklearn.preprocessing import StandardScaler\n",
    "std_data=StandardScaler().fit_transform(new_data)"
   ]
  },
  {
   "cell_type": "code",
   "execution_count": 134,
   "metadata": {},
   "outputs": [],
   "source": [
    "std_data=pd.DataFrame(std_data)"
   ]
  },
  {
   "cell_type": "code",
   "execution_count": 140,
   "metadata": {},
   "outputs": [
    {
     "data": {
      "text/html": [
       "<div>\n",
       "<style scoped>\n",
       "    .dataframe tbody tr th:only-of-type {\n",
       "        vertical-align: middle;\n",
       "    }\n",
       "\n",
       "    .dataframe tbody tr th {\n",
       "        vertical-align: top;\n",
       "    }\n",
       "\n",
       "    .dataframe thead th {\n",
       "        text-align: right;\n",
       "    }\n",
       "</style>\n",
       "<table border=\"1\" class=\"dataframe\">\n",
       "  <thead>\n",
       "    <tr style=\"text-align: right;\">\n",
       "      <th></th>\n",
       "      <th>R</th>\n",
       "      <th>F</th>\n",
       "      <th>M</th>\n",
       "      <th>C</th>\n",
       "      <th>L</th>\n",
       "    </tr>\n",
       "  </thead>\n",
       "  <tbody>\n",
       "    <tr>\n",
       "      <th>0</th>\n",
       "      <td>-0.947618</td>\n",
       "      <td>14.054669</td>\n",
       "      <td>26.798874</td>\n",
       "      <td>1.296485</td>\n",
       "      <td>1.422231</td>\n",
       "    </tr>\n",
       "    <tr>\n",
       "      <th>1</th>\n",
       "      <td>-0.914518</td>\n",
       "      <td>9.087297</td>\n",
       "      <td>13.146445</td>\n",
       "      <td>2.868708</td>\n",
       "      <td>1.314488</td>\n",
       "    </tr>\n",
       "    <tr>\n",
       "      <th>2</th>\n",
       "      <td>-0.892451</td>\n",
       "      <td>8.732484</td>\n",
       "      <td>12.672433</td>\n",
       "      <td>2.881479</td>\n",
       "      <td>1.314488</td>\n",
       "    </tr>\n",
       "    <tr>\n",
       "      <th>3</th>\n",
       "      <td>-0.418022</td>\n",
       "      <td>0.784689</td>\n",
       "      <td>12.559423</td>\n",
       "      <td>1.995475</td>\n",
       "      <td>0.668028</td>\n",
       "    </tr>\n",
       "    <tr>\n",
       "      <th>4</th>\n",
       "      <td>-0.925551</td>\n",
       "      <td>9.938846</td>\n",
       "      <td>13.919344</td>\n",
       "      <td>1.345267</td>\n",
       "      <td>0.380713</td>\n",
       "    </tr>\n",
       "  </tbody>\n",
       "</table>\n",
       "</div>"
      ],
      "text/plain": [
       "          R          F          M         C         L\n",
       "0 -0.947618  14.054669  26.798874  1.296485  1.422231\n",
       "1 -0.914518   9.087297  13.146445  2.868708  1.314488\n",
       "2 -0.892451   8.732484  12.672433  2.881479  1.314488\n",
       "3 -0.418022   0.784689  12.559423  1.995475  0.668028\n",
       "4 -0.925551   9.938846  13.919344  1.345267  0.380713"
      ]
     },
     "execution_count": 140,
     "metadata": {},
     "output_type": "execute_result"
    }
   ],
   "source": [
    "std_data.columns=new_data.columns\n",
    "std_data.head()"
   ]
  },
  {
   "cell_type": "markdown",
   "metadata": {},
   "source": [
    "### 建模"
   ]
  },
  {
   "cell_type": "code",
   "execution_count": 141,
   "metadata": {},
   "outputs": [
    {
     "data": {
      "text/plain": [
       "KMeans(algorithm='auto', copy_x=True, init='k-means++', max_iter=300,\n",
       "    n_clusters=5, n_init=10, n_jobs=-1, precompute_distances='auto',\n",
       "    random_state=None, tol=0.0001, verbose=0)"
      ]
     },
     "execution_count": 141,
     "metadata": {},
     "output_type": "execute_result"
    }
   ],
   "source": [
    "k=5\n",
    "clu=KMeans(n_clusters=k,n_jobs=-1)\n",
    "clu.fit(std_data)"
   ]
  },
  {
   "cell_type": "code",
   "execution_count": 143,
   "metadata": {},
   "outputs": [
    {
     "data": {
      "text/plain": [
       "array([[-0.41366602, -0.16075325, -0.16072417, -0.25534727, -0.69931802],\n",
       "       [ 1.68472785, -0.57301862, -0.53585064, -0.17314272, -0.31609615],\n",
       "       [-0.37561634, -0.08750614, -0.09529297, -0.15535831,  1.16189549],\n",
       "       [-0.00289974, -0.22766244, -0.2315066 ,  2.18969116,  0.05303377],\n",
       "       [-0.8017166 ,  2.4866597 ,  2.42803224,  0.3103803 ,  0.4851702 ]])"
      ]
     },
     "execution_count": 143,
     "metadata": {},
     "output_type": "execute_result"
    }
   ],
   "source": [
    "clu.cluster_centers_    #5个质心"
   ]
  },
  {
   "cell_type": "code",
   "execution_count": 167,
   "metadata": {},
   "outputs": [],
   "source": [
    "result=pd.DataFrame(clu.cluster_centers_)"
   ]
  },
  {
   "cell_type": "code",
   "execution_count": 168,
   "metadata": {},
   "outputs": [],
   "source": [
    "result.columns=new_data.columns"
   ]
  },
  {
   "cell_type": "code",
   "execution_count": 144,
   "metadata": {},
   "outputs": [
    {
     "data": {
      "text/plain": [
       "array([4, 4, 4, ..., 0, 1, 1])"
      ]
     },
     "execution_count": 144,
     "metadata": {},
     "output_type": "execute_result"
    }
   ],
   "source": [
    "clu.labels_"
   ]
  },
  {
   "cell_type": "code",
   "execution_count": 170,
   "metadata": {},
   "outputs": [],
   "source": [
    "a=pd.DataFrame(pd.Series(clu.labels_).value_counts()).sort_index()\n",
    "a.columns=['NumOClusters']"
   ]
  },
  {
   "cell_type": "code",
   "execution_count": 171,
   "metadata": {},
   "outputs": [
    {
     "data": {
      "text/html": [
       "<div>\n",
       "<style scoped>\n",
       "    .dataframe tbody tr th:only-of-type {\n",
       "        vertical-align: middle;\n",
       "    }\n",
       "\n",
       "    .dataframe tbody tr th {\n",
       "        vertical-align: top;\n",
       "    }\n",
       "\n",
       "    .dataframe thead th {\n",
       "        text-align: right;\n",
       "    }\n",
       "</style>\n",
       "<table border=\"1\" class=\"dataframe\">\n",
       "  <thead>\n",
       "    <tr style=\"text-align: right;\">\n",
       "      <th></th>\n",
       "      <th>R</th>\n",
       "      <th>F</th>\n",
       "      <th>M</th>\n",
       "      <th>C</th>\n",
       "      <th>L</th>\n",
       "      <th>NumOClusters</th>\n",
       "    </tr>\n",
       "  </thead>\n",
       "  <tbody>\n",
       "    <tr>\n",
       "      <th>0</th>\n",
       "      <td>-0.413666</td>\n",
       "      <td>-0.160753</td>\n",
       "      <td>-0.160724</td>\n",
       "      <td>-0.255347</td>\n",
       "      <td>-0.699318</td>\n",
       "      <td>24784</td>\n",
       "    </tr>\n",
       "    <tr>\n",
       "      <th>1</th>\n",
       "      <td>1.684728</td>\n",
       "      <td>-0.573019</td>\n",
       "      <td>-0.535851</td>\n",
       "      <td>-0.173143</td>\n",
       "      <td>-0.316096</td>\n",
       "      <td>12158</td>\n",
       "    </tr>\n",
       "    <tr>\n",
       "      <th>2</th>\n",
       "      <td>-0.375616</td>\n",
       "      <td>-0.087506</td>\n",
       "      <td>-0.095293</td>\n",
       "      <td>-0.155358</td>\n",
       "      <td>1.161895</td>\n",
       "      <td>15804</td>\n",
       "    </tr>\n",
       "    <tr>\n",
       "      <th>3</th>\n",
       "      <td>-0.002900</td>\n",
       "      <td>-0.227662</td>\n",
       "      <td>-0.231507</td>\n",
       "      <td>2.189691</td>\n",
       "      <td>0.053034</td>\n",
       "      <td>4205</td>\n",
       "    </tr>\n",
       "    <tr>\n",
       "      <th>4</th>\n",
       "      <td>-0.801717</td>\n",
       "      <td>2.486660</td>\n",
       "      <td>2.428032</td>\n",
       "      <td>0.310380</td>\n",
       "      <td>0.485170</td>\n",
       "      <td>5341</td>\n",
       "    </tr>\n",
       "  </tbody>\n",
       "</table>\n",
       "</div>"
      ],
      "text/plain": [
       "          R         F         M         C         L  NumOClusters\n",
       "0 -0.413666 -0.160753 -0.160724 -0.255347 -0.699318         24784\n",
       "1  1.684728 -0.573019 -0.535851 -0.173143 -0.316096         12158\n",
       "2 -0.375616 -0.087506 -0.095293 -0.155358  1.161895         15804\n",
       "3 -0.002900 -0.227662 -0.231507  2.189691  0.053034          4205\n",
       "4 -0.801717  2.486660  2.428032  0.310380  0.485170          5341"
      ]
     },
     "execution_count": 171,
     "metadata": {},
     "output_type": "execute_result"
    }
   ],
   "source": [
    "results=pd.concat([result,a],axis=1)\n",
    "results"
   ]
  },
  {
   "cell_type": "code",
   "execution_count": 172,
   "metadata": {},
   "outputs": [
    {
     "data": {
      "text/html": [
       "<div>\n",
       "<style scoped>\n",
       "    .dataframe tbody tr th:only-of-type {\n",
       "        vertical-align: middle;\n",
       "    }\n",
       "\n",
       "    .dataframe tbody tr th {\n",
       "        vertical-align: top;\n",
       "    }\n",
       "\n",
       "    .dataframe thead th {\n",
       "        text-align: right;\n",
       "    }\n",
       "</style>\n",
       "<table border=\"1\" class=\"dataframe\">\n",
       "  <thead>\n",
       "    <tr style=\"text-align: right;\">\n",
       "      <th></th>\n",
       "      <th>R</th>\n",
       "      <th>F</th>\n",
       "      <th>M</th>\n",
       "      <th>C</th>\n",
       "      <th>L</th>\n",
       "      <th>NumOClusters</th>\n",
       "    </tr>\n",
       "  </thead>\n",
       "  <tbody>\n",
       "    <tr>\n",
       "      <th>1</th>\n",
       "      <td>-0.413666</td>\n",
       "      <td>-0.160753</td>\n",
       "      <td>-0.160724</td>\n",
       "      <td>-0.255347</td>\n",
       "      <td>-0.699318</td>\n",
       "      <td>24784</td>\n",
       "    </tr>\n",
       "    <tr>\n",
       "      <th>2</th>\n",
       "      <td>1.684728</td>\n",
       "      <td>-0.573019</td>\n",
       "      <td>-0.535851</td>\n",
       "      <td>-0.173143</td>\n",
       "      <td>-0.316096</td>\n",
       "      <td>12158</td>\n",
       "    </tr>\n",
       "    <tr>\n",
       "      <th>3</th>\n",
       "      <td>-0.375616</td>\n",
       "      <td>-0.087506</td>\n",
       "      <td>-0.095293</td>\n",
       "      <td>-0.155358</td>\n",
       "      <td>1.161895</td>\n",
       "      <td>15804</td>\n",
       "    </tr>\n",
       "    <tr>\n",
       "      <th>4</th>\n",
       "      <td>-0.002900</td>\n",
       "      <td>-0.227662</td>\n",
       "      <td>-0.231507</td>\n",
       "      <td>2.189691</td>\n",
       "      <td>0.053034</td>\n",
       "      <td>4205</td>\n",
       "    </tr>\n",
       "    <tr>\n",
       "      <th>5</th>\n",
       "      <td>-0.801717</td>\n",
       "      <td>2.486660</td>\n",
       "      <td>2.428032</td>\n",
       "      <td>0.310380</td>\n",
       "      <td>0.485170</td>\n",
       "      <td>5341</td>\n",
       "    </tr>\n",
       "  </tbody>\n",
       "</table>\n",
       "</div>"
      ],
      "text/plain": [
       "          R         F         M         C         L  NumOClusters\n",
       "1 -0.413666 -0.160753 -0.160724 -0.255347 -0.699318         24784\n",
       "2  1.684728 -0.573019 -0.535851 -0.173143 -0.316096         12158\n",
       "3 -0.375616 -0.087506 -0.095293 -0.155358  1.161895         15804\n",
       "4 -0.002900 -0.227662 -0.231507  2.189691  0.053034          4205\n",
       "5 -0.801717  2.486660  2.428032  0.310380  0.485170          5341"
      ]
     },
     "execution_count": 172,
     "metadata": {},
     "output_type": "execute_result"
    }
   ],
   "source": [
    "results.index=range(1,6)\n",
    "results"
   ]
  },
  {
   "cell_type": "code",
   "execution_count": 177,
   "metadata": {},
   "outputs": [
    {
     "data": {
      "image/png": "[encoded data removed]",
      "text/plain": [
       "<Figure size 720x720 with 1 Axes>"
      ]
     },
     "metadata": {},
     "output_type": "display_data"
    }
   ],
   "source": [
    "labels = new_data.columns #标签\n",
    "k = 5 #数据个数\n",
    "plot_data = clu.cluster_centers_\n",
    "color = ['b', 'g', 'r', 'c', 'y'] #指定颜色\n",
    "\n",
    "angles = np.linspace(0, 2*np.pi, k, endpoint=False)\n",
    "plot_data = np.concatenate((plot_data, plot_data[:,[0]]), axis=1) # 闭合\n",
    "angles = np.concatenate((angles, [angles[0]])) # 闭合\n",
    "\n",
    "fig = plt.figure(figsize=(10,10))\n",
    "ax = fig.add_subplot(111, polar=True)      #polar参数 \n",
    "for i in range(len(plot_data)):\n",
    "  ax.plot(angles, plot_data[i], 'o-', color = color[i], label = 'cluster'+str(i+1), linewidth=2)# 画线\n",
    "\n",
    "ax.set_rgrids(np.arange(0.01, 3.5, 0.5), np.arange(-1, 2.5, 0.5))\n",
    "ax.set_thetagrids(angles * 180/np.pi, labels)\n",
    "plt.legend(loc =0)\n",
    "plt.show()"
   ]
  },
  {
   "cell_type": "code",
   "execution_count": null,
   "metadata": {},
   "outputs": [],
   "source": []
  }
 ],
 "metadata": {
  "kernelspec": {
   "display_name": "Python 3",
   "language": "python",
   "name": "python3"
  },
  "language_info": {
   "codemirror_mode": {
    "name": "ipython",
    "version": 3
   },
   "file_extension": ".py",
   "mimetype": "text/x-python",
   "name": "python",
   "nbconvert_exporter": "python",
   "pygments_lexer": "ipython3",
   "version": "3.6.5"
  }
 },
 "nbformat": 4,
 "nbformat_minor": 2
}
