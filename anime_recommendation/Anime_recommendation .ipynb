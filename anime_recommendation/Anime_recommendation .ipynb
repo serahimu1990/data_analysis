{
 "cells": [
  {
   "cell_type": "markdown",
   "metadata": {
    "_cell_guid": "cde0f61c-f6ab-40b6-a757-c9394566aa62"
   },
   "source": [
    "## 基于物品/用户协同过滤算法的动漫推荐系统"
   ]
  },
  {
   "cell_type": "code",
   "execution_count": 1,
   "metadata": {
    "_cell_guid": "27f2680b-e691-70e4-e762-1bca22449d14"
   },
   "outputs": [],
   "source": [
    "import pandas as pd\n",
    "import numpy as np\n",
    "import scipy as sp\n",
    "from sklearn.metrics.pairwise import cosine_similarity\n",
    "from sklearn.model_selection import train_test_split\n",
    "import operator\n",
    "%matplotlib inline"
   ]
  },
  {
   "cell_type": "code",
   "execution_count": 2,
   "metadata": {
    "_cell_guid": "f5c1d1b7-983a-daa8-27ab-d25011d1f669"
   },
   "outputs": [],
   "source": [
    "anime = pd.read_csv('D:/git2/data_analysis/anime_data/anime.csv')\n",
    "rating = pd.read_csv('D:/git2/data_analysis/anime_data/rating.csv')"
   ]
  },
  {
   "cell_type": "markdown",
   "metadata": {
    "_cell_guid": "1f7f4306-2875-ee63-71e8-febb486605e6"
   },
   "source": [
    "评分表中，许多用户的评分为-1，这里用空值替换"
   ]
  },
  {
   "cell_type": "code",
   "execution_count": 3,
   "metadata": {
    "_cell_guid": "30c96da8-d202-85cc-c546-47d31b39c04b"
   },
   "outputs": [
    {
     "data": {
      "text/html": [
       "<div>\n",
       "<style scoped>\n",
       "    .dataframe tbody tr th:only-of-type {\n",
       "        vertical-align: middle;\n",
       "    }\n",
       "\n",
       "    .dataframe tbody tr th {\n",
       "        vertical-align: top;\n",
       "    }\n",
       "\n",
       "    .dataframe thead th {\n",
       "        text-align: right;\n",
       "    }\n",
       "</style>\n",
       "<table border=\"1\" class=\"dataframe\">\n",
       "  <thead>\n",
       "    <tr style=\"text-align: right;\">\n",
       "      <th></th>\n",
       "      <th>user_id</th>\n",
       "      <th>anime_id</th>\n",
       "      <th>rating</th>\n",
       "    </tr>\n",
       "  </thead>\n",
       "  <tbody>\n",
       "    <tr>\n",
       "      <th>0</th>\n",
       "      <td>1</td>\n",
       "      <td>20</td>\n",
       "      <td>NaN</td>\n",
       "    </tr>\n",
       "    <tr>\n",
       "      <th>1</th>\n",
       "      <td>1</td>\n",
       "      <td>24</td>\n",
       "      <td>NaN</td>\n",
       "    </tr>\n",
       "    <tr>\n",
       "      <th>2</th>\n",
       "      <td>1</td>\n",
       "      <td>79</td>\n",
       "      <td>NaN</td>\n",
       "    </tr>\n",
       "    <tr>\n",
       "      <th>3</th>\n",
       "      <td>1</td>\n",
       "      <td>226</td>\n",
       "      <td>NaN</td>\n",
       "    </tr>\n",
       "    <tr>\n",
       "      <th>4</th>\n",
       "      <td>1</td>\n",
       "      <td>241</td>\n",
       "      <td>NaN</td>\n",
       "    </tr>\n",
       "  </tbody>\n",
       "</table>\n",
       "</div>"
      ],
      "text/plain": [
       "   user_id  anime_id  rating\n",
       "0        1        20     NaN\n",
       "1        1        24     NaN\n",
       "2        1        79     NaN\n",
       "3        1       226     NaN\n",
       "4        1       241     NaN"
      ]
     },
     "execution_count": 3,
     "metadata": {},
     "output_type": "execute_result"
    }
   ],
   "source": [
    "rating.rating.replace({-1: np.nan}, regex=True, inplace = True)\n",
    "rating.head()"
   ]
  },
  {
   "cell_type": "markdown",
   "metadata": {},
   "source": [
    "本次分析中，只考虑TV动漫，动漫电影暂不考虑"
   ]
  },
  {
   "cell_type": "code",
   "execution_count": 13,
   "metadata": {
    "_cell_guid": "42760207-0e77-e6cc-03c1-5cb3d2107991"
   },
   "outputs": [
    {
     "data": {
      "text/plain": [
       "(3787, 7)"
      ]
     },
     "execution_count": 13,
     "metadata": {},
     "output_type": "execute_result"
    }
   ],
   "source": [
    "anime_tv = anime[anime['type']=='TV']  #取出类型为TV的样本\n",
    "anime_tv.shape"
   ]
  },
  {
   "cell_type": "code",
   "execution_count": 14,
   "metadata": {
    "_cell_guid": "333be05a-5492-67a2-a64c-154a52ac060f"
   },
   "outputs": [],
   "source": [
    "merged = rating.merge(anime_tv, left_on = 'anime_id', right_on = 'anime_id', suffixes= ['_user', ''])  #矩阵连接\n",
    "merged.rename(columns = {'rating_user':'user_rating'}, inplace = True)   #更改列名"
   ]
  },
  {
   "cell_type": "code",
   "execution_count": 18,
   "metadata": {
    "_cell_guid": "15cfaaf3-96c1-b14e-1742-11283997fc7a"
   },
   "outputs": [
    {
     "data": {
      "text/html": [
       "<div>\n",
       "<style scoped>\n",
       "    .dataframe tbody tr th:only-of-type {\n",
       "        vertical-align: middle;\n",
       "    }\n",
       "\n",
       "    .dataframe tbody tr th {\n",
       "        vertical-align: top;\n",
       "    }\n",
       "\n",
       "    .dataframe thead th {\n",
       "        text-align: right;\n",
       "    }\n",
       "</style>\n",
       "<table border=\"1\" class=\"dataframe\">\n",
       "  <thead>\n",
       "    <tr style=\"text-align: right;\">\n",
       "      <th></th>\n",
       "      <th>user_id</th>\n",
       "      <th>name</th>\n",
       "      <th>user_rating</th>\n",
       "    </tr>\n",
       "  </thead>\n",
       "  <tbody>\n",
       "    <tr>\n",
       "      <th>0</th>\n",
       "      <td>1</td>\n",
       "      <td>Naruto</td>\n",
       "      <td>NaN</td>\n",
       "    </tr>\n",
       "    <tr>\n",
       "      <th>1</th>\n",
       "      <td>3</td>\n",
       "      <td>Naruto</td>\n",
       "      <td>8.0</td>\n",
       "    </tr>\n",
       "    <tr>\n",
       "      <th>2</th>\n",
       "      <td>5</td>\n",
       "      <td>Naruto</td>\n",
       "      <td>6.0</td>\n",
       "    </tr>\n",
       "    <tr>\n",
       "      <th>3</th>\n",
       "      <td>6</td>\n",
       "      <td>Naruto</td>\n",
       "      <td>NaN</td>\n",
       "    </tr>\n",
       "    <tr>\n",
       "      <th>4</th>\n",
       "      <td>10</td>\n",
       "      <td>Naruto</td>\n",
       "      <td>NaN</td>\n",
       "    </tr>\n",
       "  </tbody>\n",
       "</table>\n",
       "</div>"
      ],
      "text/plain": [
       "   user_id    name  user_rating\n",
       "0        1  Naruto          NaN\n",
       "1        3  Naruto          8.0\n",
       "2        5  Naruto          6.0\n",
       "3        6  Naruto          NaN\n",
       "4       10  Naruto          NaN"
      ]
     },
     "execution_count": 18,
     "metadata": {},
     "output_type": "execute_result"
    }
   ],
   "source": [
    "merged=merged[['user_id', 'name', 'user_rating']]    #取出需要计算的列，用户id，动漫名，用户评分\n",
    "merged_1= merged[merged.user_id <= 20000]\n",
    "merged_1.head()\n",
    "# merged_1.shape"
   ]
  },
  {
   "cell_type": "code",
   "execution_count": 19,
   "metadata": {
    "_cell_guid": "f7e42fe9-5cf2-c1fb-52ae-1d512c248a72"
   },
   "outputs": [
    {
     "data": {
      "text/plain": [
       "(423801, 3)"
      ]
     },
     "execution_count": 19,
     "metadata": {},
     "output_type": "execute_result"
    }
   ],
   "source": [
    "train_data,test_data =train_test_split(merged_1,test_size=0.3,random_state=42)\n",
    "train_data.shape\n",
    "test_data.shape"
   ]
  },
  {
   "cell_type": "code",
   "execution_count": 20,
   "metadata": {},
   "outputs": [],
   "source": [
    "train_piv = train_data.pivot_table(index=['user_id'], columns=['name'], values='user_rating')  \n",
    "test_piv = test_data.pivot_table(index=['user_id'], columns=['name'], values='user_rating')  #创建透视表"
   ]
  },
  {
   "cell_type": "code",
   "execution_count": 22,
   "metadata": {
    "_cell_guid": "978bc3ed-21c1-d563-13a8-f0b3056e8e7a"
   },
   "outputs": [
    {
     "name": "stdout",
     "output_type": "stream",
     "text": [
      "(18671, 2546)\n"
     ]
    },
    {
     "data": {
      "text/html": [
       "<div>\n",
       "<style scoped>\n",
       "    .dataframe tbody tr th:only-of-type {\n",
       "        vertical-align: middle;\n",
       "    }\n",
       "\n",
       "    .dataframe tbody tr th {\n",
       "        vertical-align: top;\n",
       "    }\n",
       "\n",
       "    .dataframe thead th {\n",
       "        text-align: right;\n",
       "    }\n",
       "</style>\n",
       "<table border=\"1\" class=\"dataframe\">\n",
       "  <thead>\n",
       "    <tr style=\"text-align: right;\">\n",
       "      <th>name</th>\n",
       "      <th>.hack//Roots</th>\n",
       "      <th>.hack//Sign</th>\n",
       "      <th>.hack//Tasogare no Udewa Densetsu</th>\n",
       "      <th>009-1</th>\n",
       "      <th>07-Ghost</th>\n",
       "      <th>11eyes</th>\n",
       "      <th>12-sai.: Chicchana Mune no Tokimeki</th>\n",
       "      <th>3 Choume no Tama: Uchi no Tama Shirimasenka?</th>\n",
       "      <th>30-sai no Hoken Taiiku</th>\n",
       "      <th>91 Days</th>\n",
       "      <th>...</th>\n",
       "      <th>Zombie-Loan</th>\n",
       "      <th>Zone of the Enders: Dolores, I</th>\n",
       "      <th>ef: A Tale of Melodies.</th>\n",
       "      <th>ef: A Tale of Memories.</th>\n",
       "      <th>gdgd Fairies</th>\n",
       "      <th>gdgd Fairies 2</th>\n",
       "      <th>iDOLM@STER Xenoglossia</th>\n",
       "      <th>s.CRY.ed</th>\n",
       "      <th>xxxHOLiC</th>\n",
       "      <th>xxxHOLiC Kei</th>\n",
       "    </tr>\n",
       "    <tr>\n",
       "      <th>user_id</th>\n",
       "      <th></th>\n",
       "      <th></th>\n",
       "      <th></th>\n",
       "      <th></th>\n",
       "      <th></th>\n",
       "      <th></th>\n",
       "      <th></th>\n",
       "      <th></th>\n",
       "      <th></th>\n",
       "      <th></th>\n",
       "      <th></th>\n",
       "      <th></th>\n",
       "      <th></th>\n",
       "      <th></th>\n",
       "      <th></th>\n",
       "      <th></th>\n",
       "      <th></th>\n",
       "      <th></th>\n",
       "      <th></th>\n",
       "      <th></th>\n",
       "      <th></th>\n",
       "    </tr>\n",
       "  </thead>\n",
       "  <tbody>\n",
       "    <tr>\n",
       "      <th>1</th>\n",
       "      <td>NaN</td>\n",
       "      <td>NaN</td>\n",
       "      <td>NaN</td>\n",
       "      <td>NaN</td>\n",
       "      <td>NaN</td>\n",
       "      <td>NaN</td>\n",
       "      <td>NaN</td>\n",
       "      <td>NaN</td>\n",
       "      <td>NaN</td>\n",
       "      <td>NaN</td>\n",
       "      <td>...</td>\n",
       "      <td>NaN</td>\n",
       "      <td>NaN</td>\n",
       "      <td>NaN</td>\n",
       "      <td>NaN</td>\n",
       "      <td>NaN</td>\n",
       "      <td>NaN</td>\n",
       "      <td>NaN</td>\n",
       "      <td>NaN</td>\n",
       "      <td>NaN</td>\n",
       "      <td>NaN</td>\n",
       "    </tr>\n",
       "    <tr>\n",
       "      <th>2</th>\n",
       "      <td>NaN</td>\n",
       "      <td>NaN</td>\n",
       "      <td>NaN</td>\n",
       "      <td>NaN</td>\n",
       "      <td>NaN</td>\n",
       "      <td>NaN</td>\n",
       "      <td>NaN</td>\n",
       "      <td>NaN</td>\n",
       "      <td>NaN</td>\n",
       "      <td>NaN</td>\n",
       "      <td>...</td>\n",
       "      <td>NaN</td>\n",
       "      <td>NaN</td>\n",
       "      <td>NaN</td>\n",
       "      <td>NaN</td>\n",
       "      <td>NaN</td>\n",
       "      <td>NaN</td>\n",
       "      <td>NaN</td>\n",
       "      <td>NaN</td>\n",
       "      <td>NaN</td>\n",
       "      <td>NaN</td>\n",
       "    </tr>\n",
       "    <tr>\n",
       "      <th>3</th>\n",
       "      <td>NaN</td>\n",
       "      <td>NaN</td>\n",
       "      <td>NaN</td>\n",
       "      <td>NaN</td>\n",
       "      <td>NaN</td>\n",
       "      <td>NaN</td>\n",
       "      <td>NaN</td>\n",
       "      <td>NaN</td>\n",
       "      <td>NaN</td>\n",
       "      <td>NaN</td>\n",
       "      <td>...</td>\n",
       "      <td>7.0</td>\n",
       "      <td>NaN</td>\n",
       "      <td>NaN</td>\n",
       "      <td>NaN</td>\n",
       "      <td>NaN</td>\n",
       "      <td>NaN</td>\n",
       "      <td>NaN</td>\n",
       "      <td>NaN</td>\n",
       "      <td>NaN</td>\n",
       "      <td>NaN</td>\n",
       "    </tr>\n",
       "    <tr>\n",
       "      <th>4</th>\n",
       "      <td>NaN</td>\n",
       "      <td>NaN</td>\n",
       "      <td>NaN</td>\n",
       "      <td>NaN</td>\n",
       "      <td>NaN</td>\n",
       "      <td>NaN</td>\n",
       "      <td>NaN</td>\n",
       "      <td>NaN</td>\n",
       "      <td>NaN</td>\n",
       "      <td>NaN</td>\n",
       "      <td>...</td>\n",
       "      <td>NaN</td>\n",
       "      <td>NaN</td>\n",
       "      <td>NaN</td>\n",
       "      <td>NaN</td>\n",
       "      <td>NaN</td>\n",
       "      <td>NaN</td>\n",
       "      <td>NaN</td>\n",
       "      <td>NaN</td>\n",
       "      <td>NaN</td>\n",
       "      <td>NaN</td>\n",
       "    </tr>\n",
       "    <tr>\n",
       "      <th>5</th>\n",
       "      <td>NaN</td>\n",
       "      <td>NaN</td>\n",
       "      <td>NaN</td>\n",
       "      <td>NaN</td>\n",
       "      <td>NaN</td>\n",
       "      <td>NaN</td>\n",
       "      <td>NaN</td>\n",
       "      <td>NaN</td>\n",
       "      <td>NaN</td>\n",
       "      <td>NaN</td>\n",
       "      <td>...</td>\n",
       "      <td>NaN</td>\n",
       "      <td>NaN</td>\n",
       "      <td>NaN</td>\n",
       "      <td>NaN</td>\n",
       "      <td>NaN</td>\n",
       "      <td>NaN</td>\n",
       "      <td>NaN</td>\n",
       "      <td>NaN</td>\n",
       "      <td>NaN</td>\n",
       "      <td>NaN</td>\n",
       "    </tr>\n",
       "  </tbody>\n",
       "</table>\n",
       "<p>5 rows × 2546 columns</p>\n",
       "</div>"
      ],
      "text/plain": [
       "name     .hack//Roots  .hack//Sign  .hack//Tasogare no Udewa Densetsu  009-1  \\\n",
       "user_id                                                                        \n",
       "1                 NaN          NaN                                NaN    NaN   \n",
       "2                 NaN          NaN                                NaN    NaN   \n",
       "3                 NaN          NaN                                NaN    NaN   \n",
       "4                 NaN          NaN                                NaN    NaN   \n",
       "5                 NaN          NaN                                NaN    NaN   \n",
       "\n",
       "name     07-Ghost  11eyes  12-sai.: Chicchana Mune no Tokimeki  \\\n",
       "user_id                                                          \n",
       "1             NaN     NaN                                  NaN   \n",
       "2             NaN     NaN                                  NaN   \n",
       "3             NaN     NaN                                  NaN   \n",
       "4             NaN     NaN                                  NaN   \n",
       "5             NaN     NaN                                  NaN   \n",
       "\n",
       "name     3 Choume no Tama: Uchi no Tama Shirimasenka?  30-sai no Hoken Taiiku  \\\n",
       "user_id                                                                         \n",
       "1                                                 NaN                     NaN   \n",
       "2                                                 NaN                     NaN   \n",
       "3                                                 NaN                     NaN   \n",
       "4                                                 NaN                     NaN   \n",
       "5                                                 NaN                     NaN   \n",
       "\n",
       "name     91 Days      ...       Zombie-Loan  Zone of the Enders: Dolores, I  \\\n",
       "user_id               ...                                                     \n",
       "1            NaN      ...               NaN                             NaN   \n",
       "2            NaN      ...               NaN                             NaN   \n",
       "3            NaN      ...               7.0                             NaN   \n",
       "4            NaN      ...               NaN                             NaN   \n",
       "5            NaN      ...               NaN                             NaN   \n",
       "\n",
       "name     ef: A Tale of Melodies.  ef: A Tale of Memories.  gdgd Fairies  \\\n",
       "user_id                                                                   \n",
       "1                            NaN                      NaN           NaN   \n",
       "2                            NaN                      NaN           NaN   \n",
       "3                            NaN                      NaN           NaN   \n",
       "4                            NaN                      NaN           NaN   \n",
       "5                            NaN                      NaN           NaN   \n",
       "\n",
       "name     gdgd Fairies 2  iDOLM@STER Xenoglossia  s.CRY.ed  xxxHOLiC  \\\n",
       "user_id                                                               \n",
       "1                   NaN                     NaN       NaN       NaN   \n",
       "2                   NaN                     NaN       NaN       NaN   \n",
       "3                   NaN                     NaN       NaN       NaN   \n",
       "4                   NaN                     NaN       NaN       NaN   \n",
       "5                   NaN                     NaN       NaN       NaN   \n",
       "\n",
       "name     xxxHOLiC Kei  \n",
       "user_id                \n",
       "1                 NaN  \n",
       "2                 NaN  \n",
       "3                 NaN  \n",
       "4                 NaN  \n",
       "5                 NaN  \n",
       "\n",
       "[5 rows x 2546 columns]"
      ]
     },
     "execution_count": 22,
     "metadata": {},
     "output_type": "execute_result"
    }
   ],
   "source": [
    "print(test_piv.shape)\n",
    "test_piv.head()"
   ]
  },
  {
   "cell_type": "code",
   "execution_count": 23,
   "metadata": {
    "_cell_guid": "a7632dde-c89f-3103-cb1e-36b23d530628"
   },
   "outputs": [],
   "source": [
    "train_norm = train_piv.apply(lambda x: (x-np.mean(x))/(np.max(x)-np.min(x)), axis=1)  #数据归一化,修正计算余弦相似度的原始值\n",
    "train_norm.fillna(0, inplace=True)                                                    #用0填补缺失值\n",
    "train_norm = train_norm.T\n",
    "train_norm = train_norm.loc[:, (train_norm != 0).any(axis=0)] #删除某个用户评分全都为0的用户"
   ]
  },
  {
   "cell_type": "code",
   "execution_count": 44,
   "metadata": {},
   "outputs": [
    {
     "data": {
      "text/html": [
       "<div>\n",
       "<style scoped>\n",
       "    .dataframe tbody tr th:only-of-type {\n",
       "        vertical-align: middle;\n",
       "    }\n",
       "\n",
       "    .dataframe tbody tr th {\n",
       "        vertical-align: top;\n",
       "    }\n",
       "\n",
       "    .dataframe thead th {\n",
       "        text-align: right;\n",
       "    }\n",
       "</style>\n",
       "<table border=\"1\" class=\"dataframe\">\n",
       "  <thead>\n",
       "    <tr style=\"text-align: right;\">\n",
       "      <th>user_id</th>\n",
       "      <th>3</th>\n",
       "      <th>5</th>\n",
       "      <th>7</th>\n",
       "      <th>8</th>\n",
       "      <th>11</th>\n",
       "      <th>12</th>\n",
       "      <th>14</th>\n",
       "      <th>17</th>\n",
       "      <th>18</th>\n",
       "      <th>19</th>\n",
       "      <th>...</th>\n",
       "      <th>19986</th>\n",
       "      <th>19987</th>\n",
       "      <th>19989</th>\n",
       "      <th>19990</th>\n",
       "      <th>19993</th>\n",
       "      <th>19994</th>\n",
       "      <th>19995</th>\n",
       "      <th>19996</th>\n",
       "      <th>19997</th>\n",
       "      <th>19998</th>\n",
       "    </tr>\n",
       "    <tr>\n",
       "      <th>name</th>\n",
       "      <th></th>\n",
       "      <th></th>\n",
       "      <th></th>\n",
       "      <th></th>\n",
       "      <th></th>\n",
       "      <th></th>\n",
       "      <th></th>\n",
       "      <th></th>\n",
       "      <th></th>\n",
       "      <th></th>\n",
       "      <th></th>\n",
       "      <th></th>\n",
       "      <th></th>\n",
       "      <th></th>\n",
       "      <th></th>\n",
       "      <th></th>\n",
       "      <th></th>\n",
       "      <th></th>\n",
       "      <th></th>\n",
       "      <th></th>\n",
       "      <th></th>\n",
       "    </tr>\n",
       "  </thead>\n",
       "  <tbody>\n",
       "    <tr>\n",
       "      <th>.hack//Roots</th>\n",
       "      <td>0.0</td>\n",
       "      <td>0.0</td>\n",
       "      <td>0.0</td>\n",
       "      <td>0.0</td>\n",
       "      <td>0.0</td>\n",
       "      <td>0.0</td>\n",
       "      <td>0.0</td>\n",
       "      <td>0.0</td>\n",
       "      <td>0.0</td>\n",
       "      <td>0.0</td>\n",
       "      <td>...</td>\n",
       "      <td>0.0</td>\n",
       "      <td>0.0</td>\n",
       "      <td>0.0</td>\n",
       "      <td>0.0</td>\n",
       "      <td>0.000000</td>\n",
       "      <td>0.0</td>\n",
       "      <td>0.0</td>\n",
       "      <td>0.0</td>\n",
       "      <td>0.0</td>\n",
       "      <td>0.0</td>\n",
       "    </tr>\n",
       "    <tr>\n",
       "      <th>.hack//Sign</th>\n",
       "      <td>0.0</td>\n",
       "      <td>0.0</td>\n",
       "      <td>0.0</td>\n",
       "      <td>0.0</td>\n",
       "      <td>0.0</td>\n",
       "      <td>0.0</td>\n",
       "      <td>0.0</td>\n",
       "      <td>0.0</td>\n",
       "      <td>0.0</td>\n",
       "      <td>0.0</td>\n",
       "      <td>...</td>\n",
       "      <td>0.0</td>\n",
       "      <td>0.0</td>\n",
       "      <td>0.0</td>\n",
       "      <td>0.0</td>\n",
       "      <td>0.000000</td>\n",
       "      <td>0.0</td>\n",
       "      <td>0.0</td>\n",
       "      <td>0.0</td>\n",
       "      <td>0.0</td>\n",
       "      <td>0.0</td>\n",
       "    </tr>\n",
       "    <tr>\n",
       "      <th>.hack//Tasogare no Udewa Densetsu</th>\n",
       "      <td>0.0</td>\n",
       "      <td>0.0</td>\n",
       "      <td>0.0</td>\n",
       "      <td>0.0</td>\n",
       "      <td>0.0</td>\n",
       "      <td>0.0</td>\n",
       "      <td>0.0</td>\n",
       "      <td>0.0</td>\n",
       "      <td>0.0</td>\n",
       "      <td>0.0</td>\n",
       "      <td>...</td>\n",
       "      <td>0.0</td>\n",
       "      <td>0.0</td>\n",
       "      <td>0.0</td>\n",
       "      <td>0.0</td>\n",
       "      <td>0.000000</td>\n",
       "      <td>0.0</td>\n",
       "      <td>0.0</td>\n",
       "      <td>0.0</td>\n",
       "      <td>0.0</td>\n",
       "      <td>0.0</td>\n",
       "    </tr>\n",
       "    <tr>\n",
       "      <th>009-1</th>\n",
       "      <td>0.0</td>\n",
       "      <td>0.0</td>\n",
       "      <td>0.0</td>\n",
       "      <td>0.0</td>\n",
       "      <td>0.0</td>\n",
       "      <td>0.0</td>\n",
       "      <td>0.0</td>\n",
       "      <td>0.0</td>\n",
       "      <td>0.0</td>\n",
       "      <td>0.0</td>\n",
       "      <td>...</td>\n",
       "      <td>0.0</td>\n",
       "      <td>0.0</td>\n",
       "      <td>0.0</td>\n",
       "      <td>0.0</td>\n",
       "      <td>0.000000</td>\n",
       "      <td>0.0</td>\n",
       "      <td>0.0</td>\n",
       "      <td>0.0</td>\n",
       "      <td>0.0</td>\n",
       "      <td>0.0</td>\n",
       "    </tr>\n",
       "    <tr>\n",
       "      <th>07-Ghost</th>\n",
       "      <td>0.0</td>\n",
       "      <td>0.0</td>\n",
       "      <td>0.0</td>\n",
       "      <td>0.0</td>\n",
       "      <td>0.0</td>\n",
       "      <td>0.0</td>\n",
       "      <td>0.0</td>\n",
       "      <td>0.0</td>\n",
       "      <td>0.0</td>\n",
       "      <td>0.0</td>\n",
       "      <td>...</td>\n",
       "      <td>0.0</td>\n",
       "      <td>0.0</td>\n",
       "      <td>0.0</td>\n",
       "      <td>0.0</td>\n",
       "      <td>-0.032164</td>\n",
       "      <td>0.0</td>\n",
       "      <td>0.0</td>\n",
       "      <td>0.0</td>\n",
       "      <td>0.0</td>\n",
       "      <td>0.0</td>\n",
       "    </tr>\n",
       "  </tbody>\n",
       "</table>\n",
       "<p>5 rows × 16509 columns</p>\n",
       "</div>"
      ],
      "text/plain": [
       "user_id                            3      5      7      8      11     12     \\\n",
       "name                                                                          \n",
       ".hack//Roots                         0.0    0.0    0.0    0.0    0.0    0.0   \n",
       ".hack//Sign                          0.0    0.0    0.0    0.0    0.0    0.0   \n",
       ".hack//Tasogare no Udewa Densetsu    0.0    0.0    0.0    0.0    0.0    0.0   \n",
       "009-1                                0.0    0.0    0.0    0.0    0.0    0.0   \n",
       "07-Ghost                             0.0    0.0    0.0    0.0    0.0    0.0   \n",
       "\n",
       "user_id                            14     17     18     19     ...    19986  \\\n",
       "name                                                           ...            \n",
       ".hack//Roots                         0.0    0.0    0.0    0.0  ...      0.0   \n",
       ".hack//Sign                          0.0    0.0    0.0    0.0  ...      0.0   \n",
       ".hack//Tasogare no Udewa Densetsu    0.0    0.0    0.0    0.0  ...      0.0   \n",
       "009-1                                0.0    0.0    0.0    0.0  ...      0.0   \n",
       "07-Ghost                             0.0    0.0    0.0    0.0  ...      0.0   \n",
       "\n",
       "user_id                            19987  19989  19990     19993  19994  \\\n",
       "name                                                                      \n",
       ".hack//Roots                         0.0    0.0    0.0  0.000000    0.0   \n",
       ".hack//Sign                          0.0    0.0    0.0  0.000000    0.0   \n",
       ".hack//Tasogare no Udewa Densetsu    0.0    0.0    0.0  0.000000    0.0   \n",
       "009-1                                0.0    0.0    0.0  0.000000    0.0   \n",
       "07-Ghost                             0.0    0.0    0.0 -0.032164    0.0   \n",
       "\n",
       "user_id                            19995  19996  19997  19998  \n",
       "name                                                           \n",
       ".hack//Roots                         0.0    0.0    0.0    0.0  \n",
       ".hack//Sign                          0.0    0.0    0.0    0.0  \n",
       ".hack//Tasogare no Udewa Densetsu    0.0    0.0    0.0    0.0  \n",
       "009-1                                0.0    0.0    0.0    0.0  \n",
       "07-Ghost                             0.0    0.0    0.0    0.0  \n",
       "\n",
       "[5 rows x 16509 columns]"
      ]
     },
     "execution_count": 44,
     "metadata": {},
     "output_type": "execute_result"
    }
   ],
   "source": [
    "train_norm.head()"
   ]
  },
  {
   "cell_type": "code",
   "execution_count": 25,
   "metadata": {
    "_cell_guid": "1784d9ce-6851-6388-dd05-0ff26493d268"
   },
   "outputs": [
    {
     "name": "stdout",
     "output_type": "stream",
     "text": [
      "(2782, 16509)\n"
     ]
    }
   ],
   "source": [
    "train_matrix = sp.sparse.csr_matrix(train_norm.values)  # 压缩为举证\n",
    "print(train_matrix.todense().shape)"
   ]
  },
  {
   "cell_type": "code",
   "execution_count": 28,
   "metadata": {
    "_cell_guid": "7fa31240-3634-73e3-f0a1-9e8ecfb399dc"
   },
   "outputs": [
    {
     "name": "stdout",
     "output_type": "stream",
     "text": [
      "[[ 1.00000000e+00  1.37185171e-01  1.82221890e-01 ...  2.22250748e-02\n",
      "  -1.79347261e-02 -2.45631136e-02]\n",
      " [ 1.37185171e-01  1.00000000e+00  1.07284212e-01 ... -7.76485644e-04\n",
      "  -1.38520577e-02 -2.84871107e-02]\n",
      " [ 1.82221890e-01  1.07284212e-01  1.00000000e+00 ...  1.90523410e-02\n",
      "  -3.36589529e-02 -2.48423613e-02]\n",
      " ...\n",
      " [ 2.22250748e-02 -7.76485644e-04  1.90523410e-02 ...  1.00000000e+00\n",
      "  -1.21744099e-02 -1.27964129e-02]\n",
      " [-1.79347261e-02 -1.38520577e-02 -3.36589529e-02 ... -1.21744099e-02\n",
      "   1.00000000e+00  3.91342656e-01]\n",
      " [-2.45631136e-02 -2.84871107e-02 -2.48423613e-02 ... -1.27964129e-02\n",
      "   3.91342656e-01  1.00000000e+00]]\n"
     ]
    }
   ],
   "source": [
    "item_sim = cosine_similarity(train_matrix)  # itemCF基于物品的推荐，计算余弦相似度,返回数组的第i行第j列表示item[i]与item[j]的余弦相似度\n",
    "print(item_sim)"
   ]
  },
  {
   "cell_type": "code",
   "execution_count": 30,
   "metadata": {},
   "outputs": [
    {
     "name": "stdout",
     "output_type": "stream",
     "text": [
      "[[ 1.          0.04606225  0.04953166 ... -0.06628728 -0.01280369\n",
      "   0.00971892]\n",
      " [ 0.04606225  1.          0.06164367 ... -0.03169311  0.\n",
      "   0.05186251]\n",
      " [ 0.04953166  0.06164367  1.         ...  0.          0.\n",
      "   0.04005594]\n",
      " ...\n",
      " [-0.06628728 -0.03169311  0.         ...  1.          0.\n",
      "   0.        ]\n",
      " [-0.01280369  0.          0.         ...  0.          1.\n",
      "   0.        ]\n",
      " [ 0.00971892  0.05186251  0.04005594 ...  0.          0.\n",
      "   1.        ]]\n"
     ]
    }
   ],
   "source": [
    "user_sim = cosine_similarity(train_matrix.T)  # userCF基于用户的推荐\n",
    "print(user_sim)"
   ]
  },
  {
   "cell_type": "code",
   "execution_count": 31,
   "metadata": {
    "_cell_guid": "49228028-329f-cafa-6a31-87e27c2a7e54"
   },
   "outputs": [],
   "source": [
    "item_df = pd.DataFrame(item_sim, index = train_norm.index, columns = train_norm.index)  # 将矩阵转换为DataFrame格式，索引和列名换为item名\n",
    "user_df = pd.DataFrame(user_sim, index = train_norm.columns, columns = train_norm.columns)# 将矩阵转换为DataFrame格式，索引和列名换为userID"
   ]
  },
  {
   "cell_type": "code",
   "execution_count": 32,
   "metadata": {
    "_cell_guid": "5cd7919d-163a-7fd8-da8e-c06ce1d705f1"
   },
   "outputs": [],
   "source": [
    "def top_animes(anime_name):    #函数，提取相似度最大的前10个anime\n",
    "    count = 1\n",
    "    print('和 {} 相似的动漫有:\\n'.format(anime_name))\n",
    "    for item in item_df.sort_values(by = anime_name, ascending = False).index[1:11]:\n",
    "        print('No. {}: {}'.format(count, item))\n",
    "        count +=1  "
   ]
  },
  {
   "cell_type": "code",
   "execution_count": 37,
   "metadata": {
    "_cell_guid": "725964d6-986f-d34b-a616-c10b4f504fc7"
   },
   "outputs": [],
   "source": [
    "def top_users(user):   #函数，提取相似度最大的前10个user及对应的相似度\n",
    "    \n",
    "    if user not in train_norm.columns:\n",
    "        return('无用户 {} 相关的数据'.format(user))\n",
    "    \n",
    "    print('与用户 {} 兴趣相似的用户有:\\n'.format(user))\n",
    "    sim_values = user_df.sort_values(by=user, ascending=False).loc[:,user].tolist()[1:11]\n",
    "    sim_users = user_df.sort_values(by=user, ascending=False).index[1:11]\n",
    "    zipped = zip(sim_users, sim_values,)\n",
    "    for user, sim in zipped:\n",
    "        print('用户 #{0}, 相似度: {1:.2f}'.format(user, sim)) "
   ]
  },
  {
   "cell_type": "code",
   "execution_count": 45,
   "metadata": {
    "_cell_guid": "876a5010-0e99-7aa8-5e9c-e704181b81a3"
   },
   "outputs": [],
   "source": [
    "def similar_user_like(user):   # 函数，计算与用户相似度最高的前10个用户，并统计这些用户最喜欢的动漫，返回喜欢的人数前5的动漫\n",
    "    \n",
    "    if user not in train_norm.columns:\n",
    "        return('No data available on user {}'.format(user))\n",
    "    \n",
    "    sim_users = user_df.sort_values(by=user, ascending=False).index[1:11]  #得到与用户相似度最高的前10个用户\n",
    "    best = []\n",
    "    most_common = {}\n",
    "    \n",
    "    for i in sim_users:\n",
    "        max_score = train_norm.loc[:, i].max()   # 得到相似用户其最高评分\n",
    "        best.append(train_norm[train_norm.loc[:, i]==max_score].index.tolist())  #将每个用户的最高评分的动漫放入best中\n",
    "    for i in range(len(best)):                  # 统计前10个相似用户评分最高的动漫的个数，返回数量前5的动漫\n",
    "        for j in best[i]:\n",
    "            if j in most_common:\n",
    "                most_common[j] += 1\n",
    "            else:\n",
    "                most_common[j] = 1\n",
    "    sorted_list = sorted(most_common.items(), key=operator.itemgetter(1), reverse=True)\n",
    "    return sorted_list[:5]    "
   ]
  },
  {
   "cell_type": "markdown",
   "metadata": {},
   "source": [
    "###  UserCF和ItemCF预测用户对动漫的评分"
   ]
  },
  {
   "cell_type": "code",
   "execution_count": 57,
   "metadata": {
    "_cell_guid": "55c0e789-caa4-3c6d-c062-f58fb8268a2e"
   },
   "outputs": [],
   "source": [
    "# UserCF 预测某一用户对某动漫的评分\n",
    "def user_predicted_rating(anime_name, user):\n",
    "    sim_users = user_df.sort_values(by=user, ascending=False).index[1:100]   #相似度前100的用户\n",
    "    user_values = user_df.sort_values(by=user, ascending=False).loc[:,user].tolist()[1:100]    # 相似度前100的值\n",
    "    rating_list = []\n",
    "    weight_list = []\n",
    "    for j, i in enumerate(sim_users):\n",
    "        rating = train_piv.loc[i, anime_name]  # 找到相似用户和动漫对应的评分\n",
    "        similarity = user_values[j]            # 找到相似用户的相似度\n",
    "        if np.isnan(rating):\n",
    "            continue\n",
    "        elif not np.isnan(rating):\n",
    "            rating_list.append(rating*similarity)  #计算用户对动漫的兴趣程度\n",
    "            weight_list.append(similarity)\n",
    "    return sum(rating_list)/sum(weight_list)  #返回用户对动漫的预测评分值"
   ]
  },
  {
   "cell_type": "code",
   "execution_count": 55,
   "metadata": {},
   "outputs": [],
   "source": [
    "# ItemCF 预测某一用户对某动漫的评分\n",
    "def item_predicted_rating(anime_name, user):\n",
    "    sim_items = item_df.sort_values(by=anime_name, ascending=False).index[1:200]   #相似度前200的动漫\n",
    "    item_values = item_df.sort_values(by=anime_name, ascending=False).loc[:,anime_name].tolist()[1:200]    # 相似度前200的值\n",
    "    rating_list = []\n",
    "    weight_list = []\n",
    "    for j, i in enumerate(sim_items):\n",
    "        rating = train_piv.loc[user, i]  # 找到用户及用户对相似动漫的评分\n",
    "        similarity = item_values[j]            # 找到相似动漫的相似度\n",
    "        if np.isnan(rating):\n",
    "            continue\n",
    "        elif not np.isnan(rating):\n",
    "            rating_list.append(rating*similarity)  #计算用户对动漫的兴趣程度\n",
    "            weight_list.append(similarity)\n",
    "    return sum(rating_list)/sum(weight_list)  #返回用户对动漫的预测评分值"
   ]
  },
  {
   "cell_type": "code",
   "execution_count": 33,
   "metadata": {
    "_cell_guid": "50988cb1-4034-4316-2638-d0b5954b0c26"
   },
   "outputs": [
    {
     "name": "stdout",
     "output_type": "stream",
     "text": [
      "和 Naruto 相似的动漫有:\n",
      "\n",
      "No. 1: Bleach\n",
      "No. 2: Yu☆Gi☆Oh! Duel Monsters\n",
      "No. 3: Time Bokan Series: Itadakiman\n",
      "No. 4: Dragon Ball GT\n",
      "No. 5: Dragon Ball Z\n",
      "No. 6: Ao no Exorcist\n",
      "No. 7: Sekirei\n",
      "No. 8: Tom Sawyer no Bouken\n",
      "No. 9: Tesagure! Bukatsumono Encore\n",
      "No. 10: Kyouryuu Tankentai Born Free\n"
     ]
    }
   ],
   "source": [
    "top_animes('Naruto')"
   ]
  },
  {
   "cell_type": "markdown",
   "metadata": {},
   "source": [
    "当输入火影忍者，返回与火影忍者相似的动漫有：死神，龙珠系列，妖精的尾巴，驱魔少年，通灵王，一骑当千，青之驱魔师等，分析可知，结果较为合理。"
   ]
  },
  {
   "cell_type": "code",
   "execution_count": 38,
   "metadata": {
    "_cell_guid": "360f71b5-86dd-166a-a235-4ae662449a77"
   },
   "outputs": [
    {
     "name": "stdout",
     "output_type": "stream",
     "text": [
      "与用户 5 兴趣相似的用户有:\n",
      "\n",
      "用户 #2300, 相似度: 0.24\n",
      "用户 #4341, 相似度: 0.23\n",
      "用户 #13342, 相似度: 0.22\n",
      "用户 #12033, 相似度: 0.22\n",
      "用户 #17955, 相似度: 0.21\n",
      "用户 #2127, 相似度: 0.21\n",
      "用户 #16079, 相似度: 0.21\n",
      "用户 #14531, 相似度: 0.21\n",
      "用户 #4232, 相似度: 0.21\n",
      "用户 #14507, 相似度: 0.21\n"
     ]
    }
   ],
   "source": [
    "top_users(5)"
   ]
  },
  {
   "cell_type": "code",
   "execution_count": 46,
   "metadata": {
    "_cell_guid": "99affa09-1a22-e7d0-7f39-f785cd8b89a4"
   },
   "outputs": [
    {
     "data": {
      "text/plain": [
       "[('Steins;Gate', 6),\n",
       " ('Great Teacher Onizuka', 5),\n",
       " ('Tengen Toppa Gurren Lagann', 4),\n",
       " ('Clannad: After Story', 3),\n",
       " ('One Punch Man', 3)]"
      ]
     },
     "execution_count": 46,
     "metadata": {},
     "output_type": "execute_result"
    }
   ],
   "source": [
    "similar_user_like(5)   # 预测5号用户可能喜欢的动漫"
   ]
  },
  {
   "cell_type": "code",
   "execution_count": 59,
   "metadata": {
    "_cell_guid": "007764c2-bafc-a061-d9a8-eb03a12e629f"
   },
   "outputs": [
    {
     "data": {
      "text/plain": [
       "7.8053948487555"
      ]
     },
     "execution_count": 59,
     "metadata": {},
     "output_type": "execute_result"
    }
   ],
   "source": [
    "user_predicted_rating('Naruto', 3)  #基于用户的协同过滤预测3号用户对火影的评分"
   ]
  },
  {
   "cell_type": "code",
   "execution_count": 60,
   "metadata": {},
   "outputs": [
    {
     "data": {
      "text/plain": [
       "7.405785759803792"
      ]
     },
     "execution_count": 60,
     "metadata": {},
     "output_type": "execute_result"
    }
   ],
   "source": [
    "item_predicted_rating('Naruto', 3)   #基于物品的协同过滤预测3号用户对火影的评分"
   ]
  },
  {
   "cell_type": "code",
   "execution_count": 97,
   "metadata": {
    "_cell_guid": "716aba34-a60a-2418-822c-8143d512da74"
   },
   "outputs": [],
   "source": [
    "# 针对某个用户计算MSE\n",
    "def mean_squared_error(user):\n",
    "    errors = []\n",
    "    watched = test_piv.T[test_piv.loc[user,:]>0].index.tolist()\n",
    "    for i in watched:\n",
    "        actual=test_piv.loc[user, i]  # 真实评分\n",
    "        predicted = item_predicted_rating(i, user)  # 预测评分\n",
    "        errors.append((predicted-actual)**2)  # 残差平方\n",
    "    return np.mean(errors)  # 均方误差"
   ]
  },
  {
   "cell_type": "code",
   "execution_count": 98,
   "metadata": {},
   "outputs": [
    {
     "data": {
      "text/plain": [
       "1.3892033052862747"
      ]
     },
     "execution_count": 98,
     "metadata": {},
     "output_type": "execute_result"
    }
   ],
   "source": [
    "mean_squared_error(3)"
   ]
  }
 ],
 "metadata": {
  "_change_revision": 3,
  "_is_fork": false,
  "kernelspec": {
   "display_name": "Python 3",
   "language": "python",
   "name": "python3"
  },
  "language_info": {
   "codemirror_mode": {
    "name": "ipython",
    "version": 3
   },
   "file_extension": ".py",
   "mimetype": "text/x-python",
   "name": "python",
   "nbconvert_exporter": "python",
   "pygments_lexer": "ipython3",
   "version": "3.6.5"
  }
 },
 "nbformat": 4,
 "nbformat_minor": 1
}
